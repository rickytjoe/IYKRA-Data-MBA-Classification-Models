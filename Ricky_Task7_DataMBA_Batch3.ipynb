{
  "nbformat": 4,
  "nbformat_minor": 0,
  "metadata": {
    "kernelspec": {
      "display_name": "Python 3",
      "language": "python",
      "name": "python3"
    },
    "language_info": {
      "codemirror_mode": {
        "name": "ipython",
        "version": 3
      },
      "file_extension": ".py",
      "mimetype": "text/x-python",
      "name": "python",
      "nbconvert_exporter": "python",
      "pygments_lexer": "ipython3",
      "version": "3.7.6"
    },
    "colab": {
      "name": "Ricky_Task7_DataMBA_Batch3.ipynb",
      "provenance": [],
      "include_colab_link": true
    }
  },
  "cells": [
    {
      "cell_type": "markdown",
      "metadata": {
        "id": "view-in-github",
        "colab_type": "text"
      },
      "source": [
        "<a href=\"https://colab.research.google.com/github/rickytjoe/IYKRA-Data-MBA-Clustering-/blob/master/Ricky_Task7_DataMBA_Batch3.ipynb\" target=\"_parent\"><img src=\"https://colab.research.google.com/assets/colab-badge.svg\" alt=\"Open In Colab\"/></a>"
      ]
    },
    {
      "cell_type": "markdown",
      "metadata": {
        "id": "20R_P_HB1Oy8",
        "colab_type": "text"
      },
      "source": [
        "# Library"
      ]
    },
    {
      "cell_type": "code",
      "metadata": {
        "id": "5FnhWmIx1Oy-",
        "colab_type": "code",
        "colab": {}
      },
      "source": [
        "import pandas as pd\n",
        "import numpy as np\n",
        "import matplotlib.pyplot as plt\n",
        "import seaborn as sns\n",
        "%matplotlib inline"
      ],
      "execution_count": null,
      "outputs": []
    },
    {
      "cell_type": "markdown",
      "metadata": {
        "id": "IJ6Omrrf1OzE",
        "colab_type": "text"
      },
      "source": [
        "# Import Data"
      ]
    },
    {
      "cell_type": "code",
      "metadata": {
        "id": "7N0gRafA1OzF",
        "colab_type": "code",
        "colab": {}
      },
      "source": [
        "data = pd.read_csv('C:\\\\Users\\\\LENOVO\\\\Downloads\\\\transactions1.csv', sep=\";\",low_memory=False)\n"
      ],
      "execution_count": null,
      "outputs": []
    },
    {
      "cell_type": "code",
      "metadata": {
        "scrolled": false,
        "id": "yVvQYUEB1OzI",
        "colab_type": "code",
        "colab": {},
        "outputId": "4e719fab-d5ee-49e4-bfae-a93758fb0f21"
      },
      "source": [
        "data.head()"
      ],
      "execution_count": null,
      "outputs": [
        {
          "output_type": "execute_result",
          "data": {
            "text/html": [
              "<div>\n",
              "<style scoped>\n",
              "    .dataframe tbody tr th:only-of-type {\n",
              "        vertical-align: middle;\n",
              "    }\n",
              "\n",
              "    .dataframe tbody tr th {\n",
              "        vertical-align: top;\n",
              "    }\n",
              "\n",
              "    .dataframe thead th {\n",
              "        text-align: right;\n",
              "    }\n",
              "</style>\n",
              "<table border=\"1\" class=\"dataframe\">\n",
              "  <thead>\n",
              "    <tr style=\"text-align: right;\">\n",
              "      <th></th>\n",
              "      <th>transaction_id</th>\n",
              "      <th>accountNumber</th>\n",
              "      <th>customerId</th>\n",
              "      <th>creditLimit</th>\n",
              "      <th>availableMoney</th>\n",
              "      <th>transactionDateTime</th>\n",
              "      <th>transactionAmount</th>\n",
              "      <th>merchantName</th>\n",
              "      <th>acqCountry</th>\n",
              "      <th>merchantCountryCode</th>\n",
              "      <th>...</th>\n",
              "      <th>isFraud</th>\n",
              "      <th>echoBuffer</th>\n",
              "      <th>currentBalance</th>\n",
              "      <th>merchantCity</th>\n",
              "      <th>merchantState</th>\n",
              "      <th>merchantZip</th>\n",
              "      <th>cardPresent</th>\n",
              "      <th>posOnPremises</th>\n",
              "      <th>recurringAuthInd</th>\n",
              "      <th>expirationDateKeyInMatch</th>\n",
              "    </tr>\n",
              "  </thead>\n",
              "  <tbody>\n",
              "    <tr>\n",
              "      <th>0</th>\n",
              "      <td>5533441</td>\n",
              "      <td>733493772</td>\n",
              "      <td>733493772</td>\n",
              "      <td>5000</td>\n",
              "      <td>5000.0</td>\n",
              "      <td>2016-01-08T19:04:50</td>\n",
              "      <td>111.33</td>\n",
              "      <td>Lyft</td>\n",
              "      <td>US</td>\n",
              "      <td>US</td>\n",
              "      <td>...</td>\n",
              "      <td>True</td>\n",
              "      <td>NaN</td>\n",
              "      <td>0.0</td>\n",
              "      <td>NaN</td>\n",
              "      <td>NaN</td>\n",
              "      <td>NaN</td>\n",
              "      <td>False</td>\n",
              "      <td>NaN</td>\n",
              "      <td>NaN</td>\n",
              "      <td>False</td>\n",
              "    </tr>\n",
              "    <tr>\n",
              "      <th>1</th>\n",
              "      <td>5533442</td>\n",
              "      <td>733493772</td>\n",
              "      <td>733493772</td>\n",
              "      <td>5000</td>\n",
              "      <td>4888.67</td>\n",
              "      <td>2016-01-09T22:32:39</td>\n",
              "      <td>24.75</td>\n",
              "      <td>Uber</td>\n",
              "      <td>US</td>\n",
              "      <td>US</td>\n",
              "      <td>...</td>\n",
              "      <td>False</td>\n",
              "      <td>NaN</td>\n",
              "      <td>111.33</td>\n",
              "      <td>NaN</td>\n",
              "      <td>NaN</td>\n",
              "      <td>NaN</td>\n",
              "      <td>False</td>\n",
              "      <td>NaN</td>\n",
              "      <td>NaN</td>\n",
              "      <td>False</td>\n",
              "    </tr>\n",
              "    <tr>\n",
              "      <th>2</th>\n",
              "      <td>5533443</td>\n",
              "      <td>733493772</td>\n",
              "      <td>733493772</td>\n",
              "      <td>5000</td>\n",
              "      <td>4863.92</td>\n",
              "      <td>2016-01-11T13:36:55</td>\n",
              "      <td>187.4</td>\n",
              "      <td>Lyft</td>\n",
              "      <td>US</td>\n",
              "      <td>US</td>\n",
              "      <td>...</td>\n",
              "      <td>False</td>\n",
              "      <td>NaN</td>\n",
              "      <td>136.08</td>\n",
              "      <td>NaN</td>\n",
              "      <td>NaN</td>\n",
              "      <td>NaN</td>\n",
              "      <td>False</td>\n",
              "      <td>NaN</td>\n",
              "      <td>NaN</td>\n",
              "      <td>False</td>\n",
              "    </tr>\n",
              "    <tr>\n",
              "      <th>3</th>\n",
              "      <td>5533444</td>\n",
              "      <td>733493772</td>\n",
              "      <td>733493772</td>\n",
              "      <td>5000</td>\n",
              "      <td>4676.52</td>\n",
              "      <td>2016-01-11T22:47:46</td>\n",
              "      <td>227.34</td>\n",
              "      <td>Lyft</td>\n",
              "      <td>US</td>\n",
              "      <td>US</td>\n",
              "      <td>...</td>\n",
              "      <td>True</td>\n",
              "      <td>NaN</td>\n",
              "      <td>323.48</td>\n",
              "      <td>NaN</td>\n",
              "      <td>NaN</td>\n",
              "      <td>NaN</td>\n",
              "      <td>False</td>\n",
              "      <td>NaN</td>\n",
              "      <td>NaN</td>\n",
              "      <td>False</td>\n",
              "    </tr>\n",
              "    <tr>\n",
              "      <th>4</th>\n",
              "      <td>5533445</td>\n",
              "      <td>733493772</td>\n",
              "      <td>733493772</td>\n",
              "      <td>5000</td>\n",
              "      <td>4449.18</td>\n",
              "      <td>2016-01-16T01:41:11</td>\n",
              "      <td>0.0</td>\n",
              "      <td>Lyft</td>\n",
              "      <td>US</td>\n",
              "      <td>US</td>\n",
              "      <td>...</td>\n",
              "      <td>False</td>\n",
              "      <td>NaN</td>\n",
              "      <td>550.82</td>\n",
              "      <td>NaN</td>\n",
              "      <td>NaN</td>\n",
              "      <td>NaN</td>\n",
              "      <td>False</td>\n",
              "      <td>NaN</td>\n",
              "      <td>NaN</td>\n",
              "      <td>False</td>\n",
              "    </tr>\n",
              "  </tbody>\n",
              "</table>\n",
              "<p>5 rows × 30 columns</p>\n",
              "</div>"
            ],
            "text/plain": [
              "   transaction_id  accountNumber  customerId  creditLimit availableMoney  \\\n",
              "0         5533441      733493772   733493772         5000         5000.0   \n",
              "1         5533442      733493772   733493772         5000        4888.67   \n",
              "2         5533443      733493772   733493772         5000        4863.92   \n",
              "3         5533444      733493772   733493772         5000        4676.52   \n",
              "4         5533445      733493772   733493772         5000        4449.18   \n",
              "\n",
              "   transactionDateTime transactionAmount merchantName acqCountry  \\\n",
              "0  2016-01-08T19:04:50            111.33         Lyft         US   \n",
              "1  2016-01-09T22:32:39             24.75         Uber         US   \n",
              "2  2016-01-11T13:36:55             187.4         Lyft         US   \n",
              "3  2016-01-11T22:47:46            227.34         Lyft         US   \n",
              "4  2016-01-16T01:41:11               0.0         Lyft         US   \n",
              "\n",
              "  merchantCountryCode  ...  isFraud  echoBuffer currentBalance merchantCity  \\\n",
              "0                  US  ...     True         NaN            0.0          NaN   \n",
              "1                  US  ...    False         NaN         111.33          NaN   \n",
              "2                  US  ...    False         NaN         136.08          NaN   \n",
              "3                  US  ...     True         NaN         323.48          NaN   \n",
              "4                  US  ...    False         NaN         550.82          NaN   \n",
              "\n",
              "  merchantState merchantZip  cardPresent  posOnPremises  recurringAuthInd  \\\n",
              "0           NaN         NaN        False            NaN               NaN   \n",
              "1           NaN         NaN        False            NaN               NaN   \n",
              "2           NaN         NaN        False            NaN               NaN   \n",
              "3           NaN         NaN        False            NaN               NaN   \n",
              "4           NaN         NaN        False            NaN               NaN   \n",
              "\n",
              "  expirationDateKeyInMatch  \n",
              "0                    False  \n",
              "1                    False  \n",
              "2                    False  \n",
              "3                    False  \n",
              "4                    False  \n",
              "\n",
              "[5 rows x 30 columns]"
            ]
          },
          "metadata": {
            "tags": []
          },
          "execution_count": 74
        }
      ]
    },
    {
      "cell_type": "code",
      "metadata": {
        "scrolled": true,
        "id": "Q0dpXBgC1OzN",
        "colab_type": "code",
        "colab": {},
        "outputId": "5f99c4d3-244d-42a8-a1af-dd206e3c3457"
      },
      "source": [
        "data.info()"
      ],
      "execution_count": null,
      "outputs": [
        {
          "output_type": "stream",
          "text": [
            "<class 'pandas.core.frame.DataFrame'>\n",
            "RangeIndex: 641914 entries, 0 to 641913\n",
            "Data columns (total 30 columns):\n",
            " #   Column                    Non-Null Count   Dtype  \n",
            "---  ------                    --------------   -----  \n",
            " 0   transaction_id            641914 non-null  int64  \n",
            " 1   accountNumber             641914 non-null  int64  \n",
            " 2   customerId                641914 non-null  int64  \n",
            " 3   creditLimit               641914 non-null  int64  \n",
            " 4   availableMoney            641914 non-null  object \n",
            " 5   transactionDateTime       641914 non-null  object \n",
            " 6   transactionAmount         641914 non-null  object \n",
            " 7   merchantName              641914 non-null  object \n",
            " 8   acqCountry                638001 non-null  object \n",
            " 9   merchantCountryCode       641290 non-null  object \n",
            " 10  posEntryMode              638569 non-null  float64\n",
            " 11  posConditionCode          641627 non-null  float64\n",
            " 12  merchantCategoryCode      641914 non-null  object \n",
            " 13  currentExpDate            641914 non-null  object \n",
            " 14  accountOpenDate           641914 non-null  object \n",
            " 15  dateOfLastAddressChange   641914 non-null  object \n",
            " 16  cardCVV                   641914 non-null  int64  \n",
            " 17  enteredCVV                641914 non-null  int64  \n",
            " 18  cardLast4Digits           641914 non-null  int64  \n",
            " 19  transactionType           641325 non-null  object \n",
            " 20  isFraud                   641914 non-null  bool   \n",
            " 21  echoBuffer                0 non-null       float64\n",
            " 22  currentBalance            641914 non-null  object \n",
            " 23  merchantCity              0 non-null       float64\n",
            " 24  merchantState             0 non-null       float64\n",
            " 25  merchantZip               0 non-null       float64\n",
            " 26  cardPresent               641914 non-null  bool   \n",
            " 27  posOnPremises             0 non-null       float64\n",
            " 28  recurringAuthInd          0 non-null       float64\n",
            " 29  expirationDateKeyInMatch  641914 non-null  bool   \n",
            "dtypes: bool(3), float64(8), int64(7), object(12)\n",
            "memory usage: 134.1+ MB\n"
          ],
          "name": "stdout"
        }
      ]
    },
    {
      "cell_type": "markdown",
      "metadata": {
        "id": "XkwgFbt51OzQ",
        "colab_type": "text"
      },
      "source": [
        "# Converting Data Types"
      ]
    },
    {
      "cell_type": "code",
      "metadata": {
        "id": "0mgzUGl91OzR",
        "colab_type": "code",
        "colab": {}
      },
      "source": [
        "import datetime\n",
        "data['transactionDateTime'] = pd.to_datetime(data['transactionDateTime'], format=\"%Y-%m-%dT%H:%M:%S\")\n",
        "data['accountOpenDate'] = pd.to_datetime(data['accountOpenDate'], format=\"%d/%m/%Y\")\n",
        "data['dateOfLastAddressChange'] = pd.to_datetime(data['dateOfLastAddressChange'], format=\"%d/%m/%Y\")\n",
        "data['currentExpDate'] = pd.to_datetime(data['currentExpDate'], format=\"%d/%m/%Y\")\n",
        "data['availableMoney'] =pd.to_numeric(data[\"availableMoney\"], errors='coerce')\n",
        "data['transactionAmount'] =pd.to_numeric(data[\"transactionAmount\"], errors='coerce')\n",
        "data['currentBalance'] =pd.to_numeric(data[\"currentBalance\"], errors='coerce')"
      ],
      "execution_count": null,
      "outputs": []
    },
    {
      "cell_type": "code",
      "metadata": {
        "id": "nKO6WMX51OzU",
        "colab_type": "code",
        "colab": {},
        "outputId": "305d085e-6cdc-46f2-9f58-610fee10847e"
      },
      "source": [
        "data.info()"
      ],
      "execution_count": null,
      "outputs": [
        {
          "output_type": "stream",
          "text": [
            "<class 'pandas.core.frame.DataFrame'>\n",
            "RangeIndex: 641914 entries, 0 to 641913\n",
            "Data columns (total 30 columns):\n",
            " #   Column                    Non-Null Count   Dtype         \n",
            "---  ------                    --------------   -----         \n",
            " 0   transaction_id            641914 non-null  int64         \n",
            " 1   accountNumber             641914 non-null  int64         \n",
            " 2   customerId                641914 non-null  int64         \n",
            " 3   creditLimit               641914 non-null  int64         \n",
            " 4   availableMoney            641635 non-null  float64       \n",
            " 5   transactionDateTime       641914 non-null  datetime64[ns]\n",
            " 6   transactionAmount         640098 non-null  float64       \n",
            " 7   merchantName              641914 non-null  object        \n",
            " 8   acqCountry                638001 non-null  object        \n",
            " 9   merchantCountryCode       641290 non-null  object        \n",
            " 10  posEntryMode              638569 non-null  float64       \n",
            " 11  posConditionCode          641627 non-null  float64       \n",
            " 12  merchantCategoryCode      641914 non-null  object        \n",
            " 13  currentExpDate            641914 non-null  datetime64[ns]\n",
            " 14  accountOpenDate           641914 non-null  datetime64[ns]\n",
            " 15  dateOfLastAddressChange   641914 non-null  datetime64[ns]\n",
            " 16  cardCVV                   641914 non-null  int64         \n",
            " 17  enteredCVV                641914 non-null  int64         \n",
            " 18  cardLast4Digits           641914 non-null  int64         \n",
            " 19  transactionType           641325 non-null  object        \n",
            " 20  isFraud                   641914 non-null  bool          \n",
            " 21  echoBuffer                0 non-null       float64       \n",
            " 22  currentBalance            641794 non-null  float64       \n",
            " 23  merchantCity              0 non-null       float64       \n",
            " 24  merchantState             0 non-null       float64       \n",
            " 25  merchantZip               0 non-null       float64       \n",
            " 26  cardPresent               641914 non-null  bool          \n",
            " 27  posOnPremises             0 non-null       float64       \n",
            " 28  recurringAuthInd          0 non-null       float64       \n",
            " 29  expirationDateKeyInMatch  641914 non-null  bool          \n",
            "dtypes: bool(3), datetime64[ns](4), float64(11), int64(7), object(5)\n",
            "memory usage: 134.1+ MB\n"
          ],
          "name": "stdout"
        }
      ]
    },
    {
      "cell_type": "markdown",
      "metadata": {
        "id": "BzKDWQCL1OzZ",
        "colab_type": "text"
      },
      "source": [
        "# Missing Value Handling"
      ]
    },
    {
      "cell_type": "code",
      "metadata": {
        "id": "plR77EJm1Oza",
        "colab_type": "code",
        "colab": {},
        "outputId": "722360d5-e442-4ac7-9e9e-252474843b71"
      },
      "source": [
        "data.isnull().sum()"
      ],
      "execution_count": null,
      "outputs": [
        {
          "output_type": "execute_result",
          "data": {
            "text/plain": [
              "transaction_id                   0\n",
              "accountNumber                    0\n",
              "customerId                       0\n",
              "creditLimit                      0\n",
              "availableMoney                 279\n",
              "transactionDateTime              0\n",
              "transactionAmount             1816\n",
              "merchantName                     0\n",
              "acqCountry                    3913\n",
              "merchantCountryCode            624\n",
              "posEntryMode                  3345\n",
              "posConditionCode               287\n",
              "merchantCategoryCode             0\n",
              "currentExpDate                   0\n",
              "accountOpenDate                  0\n",
              "dateOfLastAddressChange          0\n",
              "cardCVV                          0\n",
              "enteredCVV                       0\n",
              "cardLast4Digits                  0\n",
              "transactionType                589\n",
              "isFraud                          0\n",
              "echoBuffer                  641914\n",
              "currentBalance                 120\n",
              "merchantCity                641914\n",
              "merchantState               641914\n",
              "merchantZip                 641914\n",
              "cardPresent                      0\n",
              "posOnPremises               641914\n",
              "recurringAuthInd            641914\n",
              "expirationDateKeyInMatch         0\n",
              "dtype: int64"
            ]
          },
          "metadata": {
            "tags": []
          },
          "execution_count": 78
        }
      ]
    },
    {
      "cell_type": "code",
      "metadata": {
        "id": "Vu0Rgtr81Ozf",
        "colab_type": "code",
        "colab": {}
      },
      "source": [
        "data['acqCountry'].fillna(data['acqCountry'].mode()[0], inplace = True)\n",
        "data['merchantCountryCode'].fillna(data['merchantCountryCode'].mode()[0], inplace = True)\n",
        "data['posEntryMode'].fillna(data['posEntryMode'].mode()[0], inplace = True)\n",
        "data['posConditionCode'].fillna(data['posConditionCode'].mode()[0], inplace = True)\n",
        "data['transactionType'].fillna(data['transactionType'].mode()[0], inplace = True)\n",
        "data['transactionType'].fillna(data['transactionType'].mode()[0], inplace = True)\n",
        "data['availableMoney'].fillna(data['availableMoney'].median(), inplace = True)\n",
        "data['transactionAmount'].fillna(data['transactionAmount'].median(), inplace = True)\n",
        "data['currentBalance'].fillna(data['currentBalance'].median(), inplace = True)\n",
        "data.drop(['transaction_id','echoBuffer','merchantCity', 'merchantState', 'merchantZip', 'posOnPremises', 'recurringAuthInd'], axis=1,inplace=True)"
      ],
      "execution_count": null,
      "outputs": []
    },
    {
      "cell_type": "code",
      "metadata": {
        "id": "AsUyugqj1Ozh",
        "colab_type": "code",
        "colab": {},
        "outputId": "50904862-c957-4722-c1dc-d984af66a328"
      },
      "source": [
        "data.isnull().sum()"
      ],
      "execution_count": null,
      "outputs": [
        {
          "output_type": "execute_result",
          "data": {
            "text/plain": [
              "accountNumber               0\n",
              "customerId                  0\n",
              "creditLimit                 0\n",
              "availableMoney              0\n",
              "transactionDateTime         0\n",
              "transactionAmount           0\n",
              "merchantName                0\n",
              "acqCountry                  0\n",
              "merchantCountryCode         0\n",
              "posEntryMode                0\n",
              "posConditionCode            0\n",
              "merchantCategoryCode        0\n",
              "currentExpDate              0\n",
              "accountOpenDate             0\n",
              "dateOfLastAddressChange     0\n",
              "cardCVV                     0\n",
              "enteredCVV                  0\n",
              "cardLast4Digits             0\n",
              "transactionType             0\n",
              "isFraud                     0\n",
              "currentBalance              0\n",
              "cardPresent                 0\n",
              "expirationDateKeyInMatch    0\n",
              "dtype: int64"
            ]
          },
          "metadata": {
            "tags": []
          },
          "execution_count": 80
        }
      ]
    },
    {
      "cell_type": "code",
      "metadata": {
        "id": "XJrtjuGv1Ozk",
        "colab_type": "code",
        "colab": {},
        "outputId": "1efdcc7e-f838-4aef-eef5-f28f446598cd"
      },
      "source": [
        "data.info()"
      ],
      "execution_count": null,
      "outputs": [
        {
          "output_type": "stream",
          "text": [
            "<class 'pandas.core.frame.DataFrame'>\n",
            "RangeIndex: 641914 entries, 0 to 641913\n",
            "Data columns (total 23 columns):\n",
            " #   Column                    Non-Null Count   Dtype         \n",
            "---  ------                    --------------   -----         \n",
            " 0   accountNumber             641914 non-null  int64         \n",
            " 1   customerId                641914 non-null  int64         \n",
            " 2   creditLimit               641914 non-null  int64         \n",
            " 3   availableMoney            641914 non-null  float64       \n",
            " 4   transactionDateTime       641914 non-null  datetime64[ns]\n",
            " 5   transactionAmount         641914 non-null  float64       \n",
            " 6   merchantName              641914 non-null  object        \n",
            " 7   acqCountry                641914 non-null  object        \n",
            " 8   merchantCountryCode       641914 non-null  object        \n",
            " 9   posEntryMode              641914 non-null  float64       \n",
            " 10  posConditionCode          641914 non-null  float64       \n",
            " 11  merchantCategoryCode      641914 non-null  object        \n",
            " 12  currentExpDate            641914 non-null  datetime64[ns]\n",
            " 13  accountOpenDate           641914 non-null  datetime64[ns]\n",
            " 14  dateOfLastAddressChange   641914 non-null  datetime64[ns]\n",
            " 15  cardCVV                   641914 non-null  int64         \n",
            " 16  enteredCVV                641914 non-null  int64         \n",
            " 17  cardLast4Digits           641914 non-null  int64         \n",
            " 18  transactionType           641914 non-null  object        \n",
            " 19  isFraud                   641914 non-null  bool          \n",
            " 20  currentBalance            641914 non-null  float64       \n",
            " 21  cardPresent               641914 non-null  bool          \n",
            " 22  expirationDateKeyInMatch  641914 non-null  bool          \n",
            "dtypes: bool(3), datetime64[ns](4), float64(5), int64(6), object(5)\n",
            "memory usage: 99.8+ MB\n"
          ],
          "name": "stdout"
        }
      ]
    },
    {
      "cell_type": "markdown",
      "metadata": {
        "id": "TSMdE73y1Ozo",
        "colab_type": "text"
      },
      "source": [
        "# EDA"
      ]
    },
    {
      "cell_type": "code",
      "metadata": {
        "id": "FrvQoFgJ1Ozo",
        "colab_type": "code",
        "colab": {},
        "outputId": "cd8d513e-418e-46f4-9b23-a365e4966a63"
      },
      "source": [
        "labels = data['isFraud'].value_counts(sort = True).index\n",
        "sizes =  data['isFraud'].value_counts(sort = True)\n",
        "\n",
        "colors = [\"Green\",\"Yellow\"]\n",
        "explode = (0.2,0) \n",
        "\n",
        "plt.pie(sizes, explode=explode, labels=labels, colors=colors, autopct='%1.1f%%', shadow=True, startangle=360)\n",
        "\n",
        "plt.title('Percent of Fraud Transaction')\n",
        "plt.show()"
      ],
      "execution_count": null,
      "outputs": [
        {
          "output_type": "display_data",
          "data": {
            "image/png": "[encoded data removed]",
            "text/plain": [
              "<Figure size 432x288 with 1 Axes>"
            ]
          },
          "metadata": {
            "tags": []
          }
        }
      ]
    },
    {
      "cell_type": "code",
      "metadata": {
        "id": "vo8m3Hms1Ozs",
        "colab_type": "code",
        "colab": {},
        "outputId": "6741e335-9c2e-4d9b-e9e4-b9cf276bfd61"
      },
      "source": [
        "table=pd.crosstab(data.acqCountry,data.isFraud)\n",
        "table.div(table.sum(1).astype(float), axis=0).plot(figsize=(10,6),kind='bar', stacked=True)\n",
        "plt.title('Fraud Transaction by Country')\n",
        "plt.xlabel('Country')\n",
        "plt.ylabel('Transaction')\n",
        "plt.show()\n"
      ],
      "execution_count": null,
      "outputs": [
        {
          "output_type": "display_data",
          "data": {
            "image/png": "[encoded data removed]",
            "text/plain": [
              "<Figure size 720x432 with 1 Axes>"
            ]
          },
          "metadata": {
            "tags": [],
            "needs_background": "light"
          }
        }
      ]
    },
    {
      "cell_type": "code",
      "metadata": {
        "id": "N2o3gAeR1Ozv",
        "colab_type": "code",
        "colab": {},
        "outputId": "7c4cbdc2-c7bb-40d0-8bac-8d8cf68eced1"
      },
      "source": [
        "table=pd.crosstab(data.acqCountry,data.isFraud,normalize='index')\n",
        "table"
      ],
      "execution_count": null,
      "outputs": [
        {
          "output_type": "execute_result",
          "data": {
            "text/html": [
              "<div>\n",
              "<style scoped>\n",
              "    .dataframe tbody tr th:only-of-type {\n",
              "        vertical-align: middle;\n",
              "    }\n",
              "\n",
              "    .dataframe tbody tr th {\n",
              "        vertical-align: top;\n",
              "    }\n",
              "\n",
              "    .dataframe thead th {\n",
              "        text-align: right;\n",
              "    }\n",
              "</style>\n",
              "<table border=\"1\" class=\"dataframe\">\n",
              "  <thead>\n",
              "    <tr style=\"text-align: right;\">\n",
              "      <th>isFraud</th>\n",
              "      <th>False</th>\n",
              "      <th>True</th>\n",
              "    </tr>\n",
              "    <tr>\n",
              "      <th>acqCountry</th>\n",
              "      <th></th>\n",
              "      <th></th>\n",
              "    </tr>\n",
              "  </thead>\n",
              "  <tbody>\n",
              "    <tr>\n",
              "      <th>CAN</th>\n",
              "      <td>0.973262</td>\n",
              "      <td>0.026738</td>\n",
              "    </tr>\n",
              "    <tr>\n",
              "      <th>MEX</th>\n",
              "      <td>0.977913</td>\n",
              "      <td>0.022087</td>\n",
              "    </tr>\n",
              "    <tr>\n",
              "      <th>PR</th>\n",
              "      <td>0.973378</td>\n",
              "      <td>0.026622</td>\n",
              "    </tr>\n",
              "    <tr>\n",
              "      <th>US</th>\n",
              "      <td>0.982456</td>\n",
              "      <td>0.017544</td>\n",
              "    </tr>\n",
              "  </tbody>\n",
              "</table>\n",
              "</div>"
            ],
            "text/plain": [
              "isFraud        False     True \n",
              "acqCountry                    \n",
              "CAN         0.973262  0.026738\n",
              "MEX         0.977913  0.022087\n",
              "PR          0.973378  0.026622\n",
              "US          0.982456  0.017544"
            ]
          },
          "metadata": {
            "tags": []
          },
          "execution_count": 84
        }
      ]
    },
    {
      "cell_type": "code",
      "metadata": {
        "id": "upBpPhzl1Ozy",
        "colab_type": "code",
        "colab": {},
        "outputId": "c508bc05-1903-4548-cc69-bcdb109efed6"
      },
      "source": [
        "table=pd.crosstab(data.posEntryMode,data.isFraud)\n",
        "table.div(table.sum(1).astype(float), axis=0).plot(figsize=(10,6),kind='bar', stacked=True)\n",
        "plt.title('Fraud Transaction by posEntryMode')\n",
        "plt.xlabel('posEntryMode')\n",
        "plt.ylabel('Transaction')\n",
        "plt.show()"
      ],
      "execution_count": null,
      "outputs": [
        {
          "output_type": "display_data",
          "data": {
            "image/png": "[encoded data removed]",
            "text/plain": [
              "<Figure size 720x432 with 1 Axes>"
            ]
          },
          "metadata": {
            "tags": [],
            "needs_background": "light"
          }
        }
      ]
    },
    {
      "cell_type": "code",
      "metadata": {
        "id": "4mHJqTDJ1Oz1",
        "colab_type": "code",
        "colab": {},
        "outputId": "f9c7771a-7b45-4960-bc55-794a823f3390"
      },
      "source": [
        "table=pd.crosstab(data.posEntryMode,data.isFraud,normalize='index')\n",
        "table"
      ],
      "execution_count": null,
      "outputs": [
        {
          "output_type": "execute_result",
          "data": {
            "text/html": [
              "<div>\n",
              "<style scoped>\n",
              "    .dataframe tbody tr th:only-of-type {\n",
              "        vertical-align: middle;\n",
              "    }\n",
              "\n",
              "    .dataframe tbody tr th {\n",
              "        vertical-align: top;\n",
              "    }\n",
              "\n",
              "    .dataframe thead th {\n",
              "        text-align: right;\n",
              "    }\n",
              "</style>\n",
              "<table border=\"1\" class=\"dataframe\">\n",
              "  <thead>\n",
              "    <tr style=\"text-align: right;\">\n",
              "      <th>isFraud</th>\n",
              "      <th>False</th>\n",
              "      <th>True</th>\n",
              "    </tr>\n",
              "    <tr>\n",
              "      <th>posEntryMode</th>\n",
              "      <th></th>\n",
              "      <th></th>\n",
              "    </tr>\n",
              "  </thead>\n",
              "  <tbody>\n",
              "    <tr>\n",
              "      <th>2.0</th>\n",
              "      <td>0.980945</td>\n",
              "      <td>0.019055</td>\n",
              "    </tr>\n",
              "    <tr>\n",
              "      <th>5.0</th>\n",
              "      <td>0.990972</td>\n",
              "      <td>0.009028</td>\n",
              "    </tr>\n",
              "    <tr>\n",
              "      <th>9.0</th>\n",
              "      <td>0.972116</td>\n",
              "      <td>0.027884</td>\n",
              "    </tr>\n",
              "    <tr>\n",
              "      <th>80.0</th>\n",
              "      <td>0.985373</td>\n",
              "      <td>0.014627</td>\n",
              "    </tr>\n",
              "    <tr>\n",
              "      <th>90.0</th>\n",
              "      <td>0.979817</td>\n",
              "      <td>0.020183</td>\n",
              "    </tr>\n",
              "  </tbody>\n",
              "</table>\n",
              "</div>"
            ],
            "text/plain": [
              "isFraud          False     True \n",
              "posEntryMode                    \n",
              "2.0           0.980945  0.019055\n",
              "5.0           0.990972  0.009028\n",
              "9.0           0.972116  0.027884\n",
              "80.0          0.985373  0.014627\n",
              "90.0          0.979817  0.020183"
            ]
          },
          "metadata": {
            "tags": []
          },
          "execution_count": 86
        }
      ]
    },
    {
      "cell_type": "code",
      "metadata": {
        "id": "a3r1924I1Oz4",
        "colab_type": "code",
        "colab": {},
        "outputId": "961f885f-14ee-48d4-bcf9-188408e6ea6e"
      },
      "source": [
        "table=pd.crosstab(data.posConditionCode,data.isFraud)\n",
        "table.div(table.sum(1).astype(float), axis=0).plot(figsize=(10,6),kind='bar', stacked=True)\n",
        "plt.title('Fraud Transaction by posConditionCode')\n",
        "plt.xlabel('posConditionCode')\n",
        "plt.ylabel('Transaction')\n",
        "plt.show()"
      ],
      "execution_count": null,
      "outputs": [
        {
          "output_type": "display_data",
          "data": {
            "image/png": "[encoded data removed]",
            "text/plain": [
              "<Figure size 720x432 with 1 Axes>"
            ]
          },
          "metadata": {
            "tags": [],
            "needs_background": "light"
          }
        }
      ]
    },
    {
      "cell_type": "code",
      "metadata": {
        "id": "yfXVcPVZ1Oz7",
        "colab_type": "code",
        "colab": {},
        "outputId": "d7c5f988-b656-48f2-c907-9526ca311d0d"
      },
      "source": [
        "table=pd.crosstab(data.posConditionCode,data.isFraud,normalize='index')\n",
        "table"
      ],
      "execution_count": null,
      "outputs": [
        {
          "output_type": "execute_result",
          "data": {
            "text/html": [
              "<div>\n",
              "<style scoped>\n",
              "    .dataframe tbody tr th:only-of-type {\n",
              "        vertical-align: middle;\n",
              "    }\n",
              "\n",
              "    .dataframe tbody tr th {\n",
              "        vertical-align: top;\n",
              "    }\n",
              "\n",
              "    .dataframe thead th {\n",
              "        text-align: right;\n",
              "    }\n",
              "</style>\n",
              "<table border=\"1\" class=\"dataframe\">\n",
              "  <thead>\n",
              "    <tr style=\"text-align: right;\">\n",
              "      <th>isFraud</th>\n",
              "      <th>False</th>\n",
              "      <th>True</th>\n",
              "    </tr>\n",
              "    <tr>\n",
              "      <th>posConditionCode</th>\n",
              "      <th></th>\n",
              "      <th></th>\n",
              "    </tr>\n",
              "  </thead>\n",
              "  <tbody>\n",
              "    <tr>\n",
              "      <th>1.0</th>\n",
              "      <td>0.981735</td>\n",
              "      <td>0.018265</td>\n",
              "    </tr>\n",
              "    <tr>\n",
              "      <th>8.0</th>\n",
              "      <td>0.986124</td>\n",
              "      <td>0.013876</td>\n",
              "    </tr>\n",
              "    <tr>\n",
              "      <th>99.0</th>\n",
              "      <td>0.963186</td>\n",
              "      <td>0.036814</td>\n",
              "    </tr>\n",
              "  </tbody>\n",
              "</table>\n",
              "</div>"
            ],
            "text/plain": [
              "isFraud              False     True \n",
              "posConditionCode                    \n",
              "1.0               0.981735  0.018265\n",
              "8.0               0.986124  0.013876\n",
              "99.0              0.963186  0.036814"
            ]
          },
          "metadata": {
            "tags": []
          },
          "execution_count": 88
        }
      ]
    },
    {
      "cell_type": "code",
      "metadata": {
        "id": "AHXZNFYU1Oz-",
        "colab_type": "code",
        "colab": {},
        "outputId": "2c716145-21f9-4b64-9a1e-1462b911a807"
      },
      "source": [
        "table=pd.crosstab(data.merchantCategoryCode,data.isFraud)\n",
        "table.div(table.sum(1).astype(float), axis=0).plot(figsize=(10,6),kind='bar', stacked=True)\n",
        "plt.title('Fraud Transaction by Merchant Category Code')\n",
        "plt.xlabel('Merchant Category Code')\n",
        "plt.ylabel('Transaction')\n",
        "plt.show()"
      ],
      "execution_count": null,
      "outputs": [
        {
          "output_type": "display_data",
          "data": {
            "image/png": "[encoded data removed]",
            "text/plain": [
              "<Figure size 720x432 with 1 Axes>"
            ]
          },
          "metadata": {
            "tags": [],
            "needs_background": "light"
          }
        }
      ]
    },
    {
      "cell_type": "code",
      "metadata": {
        "id": "M3yJYQpR1O0B",
        "colab_type": "code",
        "colab": {},
        "outputId": "cac940c4-8889-4b07-c230-51c8b288b76b"
      },
      "source": [
        "table=pd.crosstab(data.merchantCategoryCode,data.isFraud,normalize='index')\n",
        "table"
      ],
      "execution_count": null,
      "outputs": [
        {
          "output_type": "execute_result",
          "data": {
            "text/html": [
              "<div>\n",
              "<style scoped>\n",
              "    .dataframe tbody tr th:only-of-type {\n",
              "        vertical-align: middle;\n",
              "    }\n",
              "\n",
              "    .dataframe tbody tr th {\n",
              "        vertical-align: top;\n",
              "    }\n",
              "\n",
              "    .dataframe thead th {\n",
              "        text-align: right;\n",
              "    }\n",
              "</style>\n",
              "<table border=\"1\" class=\"dataframe\">\n",
              "  <thead>\n",
              "    <tr style=\"text-align: right;\">\n",
              "      <th>isFraud</th>\n",
              "      <th>False</th>\n",
              "      <th>True</th>\n",
              "    </tr>\n",
              "    <tr>\n",
              "      <th>merchantCategoryCode</th>\n",
              "      <th></th>\n",
              "      <th></th>\n",
              "    </tr>\n",
              "  </thead>\n",
              "  <tbody>\n",
              "    <tr>\n",
              "      <th>airline</th>\n",
              "      <td>0.979379</td>\n",
              "      <td>0.020621</td>\n",
              "    </tr>\n",
              "    <tr>\n",
              "      <th>auto</th>\n",
              "      <td>0.979206</td>\n",
              "      <td>0.020794</td>\n",
              "    </tr>\n",
              "    <tr>\n",
              "      <th>cable/phone</th>\n",
              "      <td>1.000000</td>\n",
              "      <td>0.000000</td>\n",
              "    </tr>\n",
              "    <tr>\n",
              "      <th>entertainment</th>\n",
              "      <td>0.986578</td>\n",
              "      <td>0.013422</td>\n",
              "    </tr>\n",
              "    <tr>\n",
              "      <th>fastfood</th>\n",
              "      <td>0.982835</td>\n",
              "      <td>0.017165</td>\n",
              "    </tr>\n",
              "    <tr>\n",
              "      <th>food</th>\n",
              "      <td>0.979632</td>\n",
              "      <td>0.020368</td>\n",
              "    </tr>\n",
              "    <tr>\n",
              "      <th>food_delivery</th>\n",
              "      <td>1.000000</td>\n",
              "      <td>0.000000</td>\n",
              "    </tr>\n",
              "    <tr>\n",
              "      <th>fuel</th>\n",
              "      <td>1.000000</td>\n",
              "      <td>0.000000</td>\n",
              "    </tr>\n",
              "    <tr>\n",
              "      <th>furniture</th>\n",
              "      <td>0.987201</td>\n",
              "      <td>0.012799</td>\n",
              "    </tr>\n",
              "    <tr>\n",
              "      <th>gym</th>\n",
              "      <td>1.000000</td>\n",
              "      <td>0.000000</td>\n",
              "    </tr>\n",
              "    <tr>\n",
              "      <th>health</th>\n",
              "      <td>0.980828</td>\n",
              "      <td>0.019172</td>\n",
              "    </tr>\n",
              "    <tr>\n",
              "      <th>hotels</th>\n",
              "      <td>0.971590</td>\n",
              "      <td>0.028410</td>\n",
              "    </tr>\n",
              "    <tr>\n",
              "      <th>mobileapps</th>\n",
              "      <td>1.000000</td>\n",
              "      <td>0.000000</td>\n",
              "    </tr>\n",
              "    <tr>\n",
              "      <th>online_gifts</th>\n",
              "      <td>0.980209</td>\n",
              "      <td>0.019791</td>\n",
              "    </tr>\n",
              "    <tr>\n",
              "      <th>online_retail</th>\n",
              "      <td>0.977414</td>\n",
              "      <td>0.022586</td>\n",
              "    </tr>\n",
              "    <tr>\n",
              "      <th>online_subscriptions</th>\n",
              "      <td>1.000000</td>\n",
              "      <td>0.000000</td>\n",
              "    </tr>\n",
              "    <tr>\n",
              "      <th>personal care</th>\n",
              "      <td>0.987941</td>\n",
              "      <td>0.012059</td>\n",
              "    </tr>\n",
              "    <tr>\n",
              "      <th>rideshare</th>\n",
              "      <td>0.977755</td>\n",
              "      <td>0.022245</td>\n",
              "    </tr>\n",
              "    <tr>\n",
              "      <th>subscriptions</th>\n",
              "      <td>0.990477</td>\n",
              "      <td>0.009523</td>\n",
              "    </tr>\n",
              "  </tbody>\n",
              "</table>\n",
              "</div>"
            ],
            "text/plain": [
              "isFraud                  False     True \n",
              "merchantCategoryCode                    \n",
              "airline               0.979379  0.020621\n",
              "auto                  0.979206  0.020794\n",
              "cable/phone           1.000000  0.000000\n",
              "entertainment         0.986578  0.013422\n",
              "fastfood              0.982835  0.017165\n",
              "food                  0.979632  0.020368\n",
              "food_delivery         1.000000  0.000000\n",
              "fuel                  1.000000  0.000000\n",
              "furniture             0.987201  0.012799\n",
              "gym                   1.000000  0.000000\n",
              "health                0.980828  0.019172\n",
              "hotels                0.971590  0.028410\n",
              "mobileapps            1.000000  0.000000\n",
              "online_gifts          0.980209  0.019791\n",
              "online_retail         0.977414  0.022586\n",
              "online_subscriptions  1.000000  0.000000\n",
              "personal care         0.987941  0.012059\n",
              "rideshare             0.977755  0.022245\n",
              "subscriptions         0.990477  0.009523"
            ]
          },
          "metadata": {
            "tags": []
          },
          "execution_count": 90
        }
      ]
    },
    {
      "cell_type": "code",
      "metadata": {
        "id": "Z1L0-m1Q1O0E",
        "colab_type": "code",
        "colab": {},
        "outputId": "a93dacd4-35b1-498b-e891-f60e8d1371d3"
      },
      "source": [
        "table=pd.crosstab(data.transactionType,data.isFraud)\n",
        "table.div(table.sum(1).astype(float), axis=0).plot(figsize=(10,6),kind='bar', stacked=True)\n",
        "plt.title('Fraud Transaction by Transaction Type')\n",
        "plt.xlabel('Transaction Type')\n",
        "plt.ylabel('Transaction')\n",
        "plt.show()"
      ],
      "execution_count": null,
      "outputs": [
        {
          "output_type": "display_data",
          "data": {
            "image/png": "[encoded data removed]",
            "text/plain": [
              "<Figure size 720x432 with 1 Axes>"
            ]
          },
          "metadata": {
            "tags": [],
            "needs_background": "light"
          }
        }
      ]
    },
    {
      "cell_type": "code",
      "metadata": {
        "id": "2uM8vKf21O0I",
        "colab_type": "code",
        "colab": {},
        "outputId": "8159217f-e304-47e5-efca-37159e3b6cea"
      },
      "source": [
        "table=pd.crosstab(data.cardPresent,data.isFraud)\n",
        "table.div(table.sum(1).astype(float), axis=0).plot(figsize=(10,6),kind='bar', stacked=True)\n",
        "plt.title('Fraud Transaction by Card Present')\n",
        "plt.xlabel('Card Present')\n",
        "plt.ylabel('Transaction')\n",
        "plt.show()"
      ],
      "execution_count": null,
      "outputs": [
        {
          "output_type": "display_data",
          "data": {
            "image/png": "[encoded data removed]",
            "text/plain": [
              "<Figure size 720x432 with 1 Axes>"
            ]
          },
          "metadata": {
            "tags": [],
            "needs_background": "light"
          }
        }
      ]
    },
    {
      "cell_type": "code",
      "metadata": {
        "id": "80zT839Z1O0L",
        "colab_type": "code",
        "colab": {},
        "outputId": "0040d224-e3b5-4a36-f620-d781d6e4b41d"
      },
      "source": [
        "table=pd.crosstab(data.expirationDateKeyInMatch,data.isFraud)\n",
        "table.div(table.sum(1).astype(float), axis=0).plot(figsize=(10,6),kind='bar', stacked=True)\n",
        "plt.title('Fraud Transaction by Expiration Date Key In Match')\n",
        "plt.xlabel('Expiration Date Key in Match')\n",
        "plt.ylabel('Transaction')\n",
        "plt.show()"
      ],
      "execution_count": null,
      "outputs": [
        {
          "output_type": "display_data",
          "data": {
            "image/png": "[encoded data removed]",
            "text/plain": [
              "<Figure size 720x432 with 1 Axes>"
            ]
          },
          "metadata": {
            "tags": [],
            "needs_background": "light"
          }
        }
      ]
    },
    {
      "cell_type": "code",
      "metadata": {
        "id": "4IbvoQ3a1O0O",
        "colab_type": "code",
        "colab": {},
        "outputId": "0913c84c-b85a-4ca0-af97-b3c3a3858b6c"
      },
      "source": [
        "g = sns.kdeplot(data.transactionAmount[(data[\"isFraud\"] == True) ], color=\"Red\", shade = True)\n",
        "g = sns.kdeplot(data.transactionAmount[(data[\"isFraud\"] == False) ], ax =g, color=\"black\", shade= True)\n",
        "g.set_xlabel(\"Transaction Amount\")\n",
        "g.set_ylabel(\"Frequency\")\n",
        "plt.title('Distribution of Transaction Amount in the overall transaction')\n",
        "g = g.legend([True, False])"
      ],
      "execution_count": null,
      "outputs": [
        {
          "output_type": "display_data",
          "data": {
            "image/png": "[encoded data removed]",
            "text/plain": [
              "<Figure size 432x288 with 1 Axes>"
            ]
          },
          "metadata": {
            "tags": [],
            "needs_background": "light"
          }
        }
      ]
    },
    {
      "cell_type": "code",
      "metadata": {
        "id": "BfSr1pFD1O0S",
        "colab_type": "code",
        "colab": {},
        "outputId": "70a9f819-07b0-4681-8769-816cd225e711"
      },
      "source": [
        "g = sns.kdeplot(data.availableMoney[(data[\"isFraud\"] == True) ], color=\"Red\", shade = True)\n",
        "g = sns.kdeplot(data.availableMoney[(data[\"isFraud\"] == False) ], ax =g, color=\"Black\", shade= True)\n",
        "g.set_xlabel(\"Available Money\")\n",
        "g.set_ylabel(\"Frequency\")\n",
        "plt.title('Distribution of Transaction Amount in the overall transaction')\n",
        "g = g.legend([True, False])"
      ],
      "execution_count": null,
      "outputs": [
        {
          "output_type": "display_data",
          "data": {
            "image/png": "[encoded data removed]",
            "text/plain": [
              "<Figure size 432x288 with 1 Axes>"
            ]
          },
          "metadata": {
            "tags": [],
            "needs_background": "light"
          }
        }
      ]
    },
    {
      "cell_type": "code",
      "metadata": {
        "id": "hA4vFjsr1O0W",
        "colab_type": "code",
        "colab": {},
        "outputId": "62b9e415-ece5-4b55-c153-cd2c95d984bd"
      },
      "source": [
        "g = sns.kdeplot(data.creditLimit[(data[\"isFraud\"] == True) ], color=\"Red\", shade = True)\n",
        "g = sns.kdeplot(data.creditLimit[(data[\"isFraud\"] == False) ], ax =g, color=\"lightblue\", shade= True)\n",
        "g.set_xlabel(\"Credit Limit\")\n",
        "g.set_ylabel(\"Frequency\")\n",
        "plt.title('Distribution of Credit Limit in the overall transaction')\n",
        "g = g.legend([True, False])"
      ],
      "execution_count": null,
      "outputs": [
        {
          "output_type": "display_data",
          "data": {
            "image/png": "[encoded data removed]",
            "text/plain": [
              "<Figure size 432x288 with 1 Axes>"
            ]
          },
          "metadata": {
            "tags": [],
            "needs_background": "light"
          }
        }
      ]
    },
    {
      "cell_type": "markdown",
      "metadata": {
        "id": "Bms93OFF1O0Z",
        "colab_type": "text"
      },
      "source": [
        "# Feature Engineering"
      ]
    },
    {
      "cell_type": "code",
      "metadata": {
        "id": "ZAMyCbu61O0a",
        "colab_type": "code",
        "colab": {},
        "outputId": "257ff59a-a7cb-403a-c110-6b0eccad28d4"
      },
      "source": [
        "data.head()"
      ],
      "execution_count": null,
      "outputs": [
        {
          "output_type": "execute_result",
          "data": {
            "text/html": [
              "<div>\n",
              "<style scoped>\n",
              "    .dataframe tbody tr th:only-of-type {\n",
              "        vertical-align: middle;\n",
              "    }\n",
              "\n",
              "    .dataframe tbody tr th {\n",
              "        vertical-align: top;\n",
              "    }\n",
              "\n",
              "    .dataframe thead th {\n",
              "        text-align: right;\n",
              "    }\n",
              "</style>\n",
              "<table border=\"1\" class=\"dataframe\">\n",
              "  <thead>\n",
              "    <tr style=\"text-align: right;\">\n",
              "      <th></th>\n",
              "      <th>accountNumber</th>\n",
              "      <th>customerId</th>\n",
              "      <th>creditLimit</th>\n",
              "      <th>availableMoney</th>\n",
              "      <th>transactionDateTime</th>\n",
              "      <th>transactionAmount</th>\n",
              "      <th>merchantName</th>\n",
              "      <th>acqCountry</th>\n",
              "      <th>merchantCountryCode</th>\n",
              "      <th>posEntryMode</th>\n",
              "      <th>...</th>\n",
              "      <th>accountOpenDate</th>\n",
              "      <th>dateOfLastAddressChange</th>\n",
              "      <th>cardCVV</th>\n",
              "      <th>enteredCVV</th>\n",
              "      <th>cardLast4Digits</th>\n",
              "      <th>transactionType</th>\n",
              "      <th>isFraud</th>\n",
              "      <th>currentBalance</th>\n",
              "      <th>cardPresent</th>\n",
              "      <th>expirationDateKeyInMatch</th>\n",
              "    </tr>\n",
              "  </thead>\n",
              "  <tbody>\n",
              "    <tr>\n",
              "      <th>0</th>\n",
              "      <td>733493772</td>\n",
              "      <td>733493772</td>\n",
              "      <td>5000</td>\n",
              "      <td>5000.00</td>\n",
              "      <td>2016-01-08 19:04:50</td>\n",
              "      <td>111.33</td>\n",
              "      <td>Lyft</td>\n",
              "      <td>US</td>\n",
              "      <td>US</td>\n",
              "      <td>5.0</td>\n",
              "      <td>...</td>\n",
              "      <td>2014-08-03</td>\n",
              "      <td>2014-08-03</td>\n",
              "      <td>492</td>\n",
              "      <td>492</td>\n",
              "      <td>9184</td>\n",
              "      <td>PURCHASE</td>\n",
              "      <td>True</td>\n",
              "      <td>0.00</td>\n",
              "      <td>False</td>\n",
              "      <td>False</td>\n",
              "    </tr>\n",
              "    <tr>\n",
              "      <th>1</th>\n",
              "      <td>733493772</td>\n",
              "      <td>733493772</td>\n",
              "      <td>5000</td>\n",
              "      <td>4888.67</td>\n",
              "      <td>2016-01-09 22:32:39</td>\n",
              "      <td>24.75</td>\n",
              "      <td>Uber</td>\n",
              "      <td>US</td>\n",
              "      <td>US</td>\n",
              "      <td>9.0</td>\n",
              "      <td>...</td>\n",
              "      <td>2014-08-03</td>\n",
              "      <td>2014-08-03</td>\n",
              "      <td>492</td>\n",
              "      <td>492</td>\n",
              "      <td>9184</td>\n",
              "      <td>PURCHASE</td>\n",
              "      <td>False</td>\n",
              "      <td>111.33</td>\n",
              "      <td>False</td>\n",
              "      <td>False</td>\n",
              "    </tr>\n",
              "    <tr>\n",
              "      <th>2</th>\n",
              "      <td>733493772</td>\n",
              "      <td>733493772</td>\n",
              "      <td>5000</td>\n",
              "      <td>4863.92</td>\n",
              "      <td>2016-01-11 13:36:55</td>\n",
              "      <td>187.40</td>\n",
              "      <td>Lyft</td>\n",
              "      <td>US</td>\n",
              "      <td>US</td>\n",
              "      <td>5.0</td>\n",
              "      <td>...</td>\n",
              "      <td>2014-08-03</td>\n",
              "      <td>2014-08-03</td>\n",
              "      <td>492</td>\n",
              "      <td>492</td>\n",
              "      <td>9184</td>\n",
              "      <td>PURCHASE</td>\n",
              "      <td>False</td>\n",
              "      <td>136.08</td>\n",
              "      <td>False</td>\n",
              "      <td>False</td>\n",
              "    </tr>\n",
              "    <tr>\n",
              "      <th>3</th>\n",
              "      <td>733493772</td>\n",
              "      <td>733493772</td>\n",
              "      <td>5000</td>\n",
              "      <td>4676.52</td>\n",
              "      <td>2016-01-11 22:47:46</td>\n",
              "      <td>227.34</td>\n",
              "      <td>Lyft</td>\n",
              "      <td>US</td>\n",
              "      <td>US</td>\n",
              "      <td>2.0</td>\n",
              "      <td>...</td>\n",
              "      <td>2014-08-03</td>\n",
              "      <td>2014-08-03</td>\n",
              "      <td>492</td>\n",
              "      <td>492</td>\n",
              "      <td>9184</td>\n",
              "      <td>PURCHASE</td>\n",
              "      <td>True</td>\n",
              "      <td>323.48</td>\n",
              "      <td>False</td>\n",
              "      <td>False</td>\n",
              "    </tr>\n",
              "    <tr>\n",
              "      <th>4</th>\n",
              "      <td>733493772</td>\n",
              "      <td>733493772</td>\n",
              "      <td>5000</td>\n",
              "      <td>4449.18</td>\n",
              "      <td>2016-01-16 01:41:11</td>\n",
              "      <td>0.00</td>\n",
              "      <td>Lyft</td>\n",
              "      <td>US</td>\n",
              "      <td>US</td>\n",
              "      <td>2.0</td>\n",
              "      <td>...</td>\n",
              "      <td>2014-08-03</td>\n",
              "      <td>2014-08-03</td>\n",
              "      <td>492</td>\n",
              "      <td>492</td>\n",
              "      <td>9184</td>\n",
              "      <td>ADDRESS_VERIFICATION</td>\n",
              "      <td>False</td>\n",
              "      <td>550.82</td>\n",
              "      <td>False</td>\n",
              "      <td>False</td>\n",
              "    </tr>\n",
              "  </tbody>\n",
              "</table>\n",
              "<p>5 rows × 23 columns</p>\n",
              "</div>"
            ],
            "text/plain": [
              "   accountNumber  customerId  creditLimit  availableMoney transactionDateTime  \\\n",
              "0      733493772   733493772         5000         5000.00 2016-01-08 19:04:50   \n",
              "1      733493772   733493772         5000         4888.67 2016-01-09 22:32:39   \n",
              "2      733493772   733493772         5000         4863.92 2016-01-11 13:36:55   \n",
              "3      733493772   733493772         5000         4676.52 2016-01-11 22:47:46   \n",
              "4      733493772   733493772         5000         4449.18 2016-01-16 01:41:11   \n",
              "\n",
              "   transactionAmount merchantName acqCountry merchantCountryCode  \\\n",
              "0             111.33         Lyft         US                  US   \n",
              "1              24.75         Uber         US                  US   \n",
              "2             187.40         Lyft         US                  US   \n",
              "3             227.34         Lyft         US                  US   \n",
              "4               0.00         Lyft         US                  US   \n",
              "\n",
              "   posEntryMode  ...  accountOpenDate dateOfLastAddressChange cardCVV  \\\n",
              "0           5.0  ...       2014-08-03              2014-08-03     492   \n",
              "1           9.0  ...       2014-08-03              2014-08-03     492   \n",
              "2           5.0  ...       2014-08-03              2014-08-03     492   \n",
              "3           2.0  ...       2014-08-03              2014-08-03     492   \n",
              "4           2.0  ...       2014-08-03              2014-08-03     492   \n",
              "\n",
              "  enteredCVV cardLast4Digits       transactionType  isFraud  currentBalance  \\\n",
              "0        492            9184              PURCHASE     True            0.00   \n",
              "1        492            9184              PURCHASE    False          111.33   \n",
              "2        492            9184              PURCHASE    False          136.08   \n",
              "3        492            9184              PURCHASE     True          323.48   \n",
              "4        492            9184  ADDRESS_VERIFICATION    False          550.82   \n",
              "\n",
              "  cardPresent  expirationDateKeyInMatch  \n",
              "0       False                     False  \n",
              "1       False                     False  \n",
              "2       False                     False  \n",
              "3       False                     False  \n",
              "4       False                     False  \n",
              "\n",
              "[5 rows x 23 columns]"
            ]
          },
          "metadata": {
            "tags": []
          },
          "execution_count": 97
        }
      ]
    },
    {
      "cell_type": "code",
      "metadata": {
        "id": "A6HiNy5T1O0c",
        "colab_type": "code",
        "colab": {},
        "outputId": "aa6bc394-16ea-4db2-90eb-63c3e7dc55a8"
      },
      "source": [
        "data.info()"
      ],
      "execution_count": null,
      "outputs": [
        {
          "output_type": "stream",
          "text": [
            "<class 'pandas.core.frame.DataFrame'>\n",
            "RangeIndex: 641914 entries, 0 to 641913\n",
            "Data columns (total 23 columns):\n",
            " #   Column                    Non-Null Count   Dtype         \n",
            "---  ------                    --------------   -----         \n",
            " 0   accountNumber             641914 non-null  int64         \n",
            " 1   customerId                641914 non-null  int64         \n",
            " 2   creditLimit               641914 non-null  int64         \n",
            " 3   availableMoney            641914 non-null  float64       \n",
            " 4   transactionDateTime       641914 non-null  datetime64[ns]\n",
            " 5   transactionAmount         641914 non-null  float64       \n",
            " 6   merchantName              641914 non-null  object        \n",
            " 7   acqCountry                641914 non-null  object        \n",
            " 8   merchantCountryCode       641914 non-null  object        \n",
            " 9   posEntryMode              641914 non-null  float64       \n",
            " 10  posConditionCode          641914 non-null  float64       \n",
            " 11  merchantCategoryCode      641914 non-null  object        \n",
            " 12  currentExpDate            641914 non-null  datetime64[ns]\n",
            " 13  accountOpenDate           641914 non-null  datetime64[ns]\n",
            " 14  dateOfLastAddressChange   641914 non-null  datetime64[ns]\n",
            " 15  cardCVV                   641914 non-null  int64         \n",
            " 16  enteredCVV                641914 non-null  int64         \n",
            " 17  cardLast4Digits           641914 non-null  int64         \n",
            " 18  transactionType           641914 non-null  object        \n",
            " 19  isFraud                   641914 non-null  bool          \n",
            " 20  currentBalance            641914 non-null  float64       \n",
            " 21  cardPresent               641914 non-null  bool          \n",
            " 22  expirationDateKeyInMatch  641914 non-null  bool          \n",
            "dtypes: bool(3), datetime64[ns](4), float64(5), int64(6), object(5)\n",
            "memory usage: 99.8+ MB\n"
          ],
          "name": "stdout"
        }
      ]
    },
    {
      "cell_type": "code",
      "metadata": {
        "id": "xJNwapAW1O0f",
        "colab_type": "code",
        "colab": {}
      },
      "source": [
        "tmp_df = data"
      ],
      "execution_count": null,
      "outputs": []
    },
    {
      "cell_type": "code",
      "metadata": {
        "id": "oufpCMy21O0j",
        "colab_type": "code",
        "colab": {},
        "outputId": "f9a13eee-e550-4200-840b-e41feed41bd9"
      },
      "source": [
        "tmp_df.head()"
      ],
      "execution_count": null,
      "outputs": [
        {
          "output_type": "execute_result",
          "data": {
            "text/html": [
              "<div>\n",
              "<style scoped>\n",
              "    .dataframe tbody tr th:only-of-type {\n",
              "        vertical-align: middle;\n",
              "    }\n",
              "\n",
              "    .dataframe tbody tr th {\n",
              "        vertical-align: top;\n",
              "    }\n",
              "\n",
              "    .dataframe thead th {\n",
              "        text-align: right;\n",
              "    }\n",
              "</style>\n",
              "<table border=\"1\" class=\"dataframe\">\n",
              "  <thead>\n",
              "    <tr style=\"text-align: right;\">\n",
              "      <th></th>\n",
              "      <th>accountNumber</th>\n",
              "      <th>customerId</th>\n",
              "      <th>creditLimit</th>\n",
              "      <th>availableMoney</th>\n",
              "      <th>transactionDateTime</th>\n",
              "      <th>transactionAmount</th>\n",
              "      <th>merchantName</th>\n",
              "      <th>acqCountry</th>\n",
              "      <th>merchantCountryCode</th>\n",
              "      <th>posEntryMode</th>\n",
              "      <th>...</th>\n",
              "      <th>accountOpenDate</th>\n",
              "      <th>dateOfLastAddressChange</th>\n",
              "      <th>cardCVV</th>\n",
              "      <th>enteredCVV</th>\n",
              "      <th>cardLast4Digits</th>\n",
              "      <th>transactionType</th>\n",
              "      <th>isFraud</th>\n",
              "      <th>currentBalance</th>\n",
              "      <th>cardPresent</th>\n",
              "      <th>expirationDateKeyInMatch</th>\n",
              "    </tr>\n",
              "  </thead>\n",
              "  <tbody>\n",
              "    <tr>\n",
              "      <th>0</th>\n",
              "      <td>733493772</td>\n",
              "      <td>733493772</td>\n",
              "      <td>5000</td>\n",
              "      <td>5000.00</td>\n",
              "      <td>2016-01-08 19:04:50</td>\n",
              "      <td>111.33</td>\n",
              "      <td>Lyft</td>\n",
              "      <td>US</td>\n",
              "      <td>US</td>\n",
              "      <td>5.0</td>\n",
              "      <td>...</td>\n",
              "      <td>2014-08-03</td>\n",
              "      <td>2014-08-03</td>\n",
              "      <td>492</td>\n",
              "      <td>492</td>\n",
              "      <td>9184</td>\n",
              "      <td>PURCHASE</td>\n",
              "      <td>True</td>\n",
              "      <td>0.00</td>\n",
              "      <td>False</td>\n",
              "      <td>False</td>\n",
              "    </tr>\n",
              "    <tr>\n",
              "      <th>1</th>\n",
              "      <td>733493772</td>\n",
              "      <td>733493772</td>\n",
              "      <td>5000</td>\n",
              "      <td>4888.67</td>\n",
              "      <td>2016-01-09 22:32:39</td>\n",
              "      <td>24.75</td>\n",
              "      <td>Uber</td>\n",
              "      <td>US</td>\n",
              "      <td>US</td>\n",
              "      <td>9.0</td>\n",
              "      <td>...</td>\n",
              "      <td>2014-08-03</td>\n",
              "      <td>2014-08-03</td>\n",
              "      <td>492</td>\n",
              "      <td>492</td>\n",
              "      <td>9184</td>\n",
              "      <td>PURCHASE</td>\n",
              "      <td>False</td>\n",
              "      <td>111.33</td>\n",
              "      <td>False</td>\n",
              "      <td>False</td>\n",
              "    </tr>\n",
              "    <tr>\n",
              "      <th>2</th>\n",
              "      <td>733493772</td>\n",
              "      <td>733493772</td>\n",
              "      <td>5000</td>\n",
              "      <td>4863.92</td>\n",
              "      <td>2016-01-11 13:36:55</td>\n",
              "      <td>187.40</td>\n",
              "      <td>Lyft</td>\n",
              "      <td>US</td>\n",
              "      <td>US</td>\n",
              "      <td>5.0</td>\n",
              "      <td>...</td>\n",
              "      <td>2014-08-03</td>\n",
              "      <td>2014-08-03</td>\n",
              "      <td>492</td>\n",
              "      <td>492</td>\n",
              "      <td>9184</td>\n",
              "      <td>PURCHASE</td>\n",
              "      <td>False</td>\n",
              "      <td>136.08</td>\n",
              "      <td>False</td>\n",
              "      <td>False</td>\n",
              "    </tr>\n",
              "    <tr>\n",
              "      <th>3</th>\n",
              "      <td>733493772</td>\n",
              "      <td>733493772</td>\n",
              "      <td>5000</td>\n",
              "      <td>4676.52</td>\n",
              "      <td>2016-01-11 22:47:46</td>\n",
              "      <td>227.34</td>\n",
              "      <td>Lyft</td>\n",
              "      <td>US</td>\n",
              "      <td>US</td>\n",
              "      <td>2.0</td>\n",
              "      <td>...</td>\n",
              "      <td>2014-08-03</td>\n",
              "      <td>2014-08-03</td>\n",
              "      <td>492</td>\n",
              "      <td>492</td>\n",
              "      <td>9184</td>\n",
              "      <td>PURCHASE</td>\n",
              "      <td>True</td>\n",
              "      <td>323.48</td>\n",
              "      <td>False</td>\n",
              "      <td>False</td>\n",
              "    </tr>\n",
              "    <tr>\n",
              "      <th>4</th>\n",
              "      <td>733493772</td>\n",
              "      <td>733493772</td>\n",
              "      <td>5000</td>\n",
              "      <td>4449.18</td>\n",
              "      <td>2016-01-16 01:41:11</td>\n",
              "      <td>0.00</td>\n",
              "      <td>Lyft</td>\n",
              "      <td>US</td>\n",
              "      <td>US</td>\n",
              "      <td>2.0</td>\n",
              "      <td>...</td>\n",
              "      <td>2014-08-03</td>\n",
              "      <td>2014-08-03</td>\n",
              "      <td>492</td>\n",
              "      <td>492</td>\n",
              "      <td>9184</td>\n",
              "      <td>ADDRESS_VERIFICATION</td>\n",
              "      <td>False</td>\n",
              "      <td>550.82</td>\n",
              "      <td>False</td>\n",
              "      <td>False</td>\n",
              "    </tr>\n",
              "  </tbody>\n",
              "</table>\n",
              "<p>5 rows × 23 columns</p>\n",
              "</div>"
            ],
            "text/plain": [
              "   accountNumber  customerId  creditLimit  availableMoney transactionDateTime  \\\n",
              "0      733493772   733493772         5000         5000.00 2016-01-08 19:04:50   \n",
              "1      733493772   733493772         5000         4888.67 2016-01-09 22:32:39   \n",
              "2      733493772   733493772         5000         4863.92 2016-01-11 13:36:55   \n",
              "3      733493772   733493772         5000         4676.52 2016-01-11 22:47:46   \n",
              "4      733493772   733493772         5000         4449.18 2016-01-16 01:41:11   \n",
              "\n",
              "   transactionAmount merchantName acqCountry merchantCountryCode  \\\n",
              "0             111.33         Lyft         US                  US   \n",
              "1              24.75         Uber         US                  US   \n",
              "2             187.40         Lyft         US                  US   \n",
              "3             227.34         Lyft         US                  US   \n",
              "4               0.00         Lyft         US                  US   \n",
              "\n",
              "   posEntryMode  ...  accountOpenDate dateOfLastAddressChange cardCVV  \\\n",
              "0           5.0  ...       2014-08-03              2014-08-03     492   \n",
              "1           9.0  ...       2014-08-03              2014-08-03     492   \n",
              "2           5.0  ...       2014-08-03              2014-08-03     492   \n",
              "3           2.0  ...       2014-08-03              2014-08-03     492   \n",
              "4           2.0  ...       2014-08-03              2014-08-03     492   \n",
              "\n",
              "  enteredCVV cardLast4Digits       transactionType  isFraud  currentBalance  \\\n",
              "0        492            9184              PURCHASE     True            0.00   \n",
              "1        492            9184              PURCHASE    False          111.33   \n",
              "2        492            9184              PURCHASE    False          136.08   \n",
              "3        492            9184              PURCHASE     True          323.48   \n",
              "4        492            9184  ADDRESS_VERIFICATION    False          550.82   \n",
              "\n",
              "  cardPresent  expirationDateKeyInMatch  \n",
              "0       False                     False  \n",
              "1       False                     False  \n",
              "2       False                     False  \n",
              "3       False                     False  \n",
              "4       False                     False  \n",
              "\n",
              "[5 rows x 23 columns]"
            ]
          },
          "metadata": {
            "tags": []
          },
          "execution_count": 100
        }
      ]
    },
    {
      "cell_type": "code",
      "metadata": {
        "id": "3Tjfb3Qd1O0o",
        "colab_type": "code",
        "colab": {}
      },
      "source": [
        "tmp_df['daysSinceRegister'] = tmp_df['accountOpenDate'].sub(tmp_df['transactionDateTime'], axis=0)\n",
        "tmp_df['daysSinceRegister']  = tmp_df['daysSinceRegister']  / np.timedelta64(1, 'D')"
      ],
      "execution_count": null,
      "outputs": []
    },
    {
      "cell_type": "code",
      "metadata": {
        "id": "_ex2mGdK1O0u",
        "colab_type": "code",
        "colab": {},
        "outputId": "a27d27fe-c2bc-4387-cd09-c33b549ad302"
      },
      "source": [
        "tmp_df.head()"
      ],
      "execution_count": null,
      "outputs": [
        {
          "output_type": "execute_result",
          "data": {
            "text/html": [
              "<div>\n",
              "<style scoped>\n",
              "    .dataframe tbody tr th:only-of-type {\n",
              "        vertical-align: middle;\n",
              "    }\n",
              "\n",
              "    .dataframe tbody tr th {\n",
              "        vertical-align: top;\n",
              "    }\n",
              "\n",
              "    .dataframe thead th {\n",
              "        text-align: right;\n",
              "    }\n",
              "</style>\n",
              "<table border=\"1\" class=\"dataframe\">\n",
              "  <thead>\n",
              "    <tr style=\"text-align: right;\">\n",
              "      <th></th>\n",
              "      <th>accountNumber</th>\n",
              "      <th>customerId</th>\n",
              "      <th>creditLimit</th>\n",
              "      <th>availableMoney</th>\n",
              "      <th>transactionDateTime</th>\n",
              "      <th>transactionAmount</th>\n",
              "      <th>merchantName</th>\n",
              "      <th>acqCountry</th>\n",
              "      <th>merchantCountryCode</th>\n",
              "      <th>posEntryMode</th>\n",
              "      <th>...</th>\n",
              "      <th>dateOfLastAddressChange</th>\n",
              "      <th>cardCVV</th>\n",
              "      <th>enteredCVV</th>\n",
              "      <th>cardLast4Digits</th>\n",
              "      <th>transactionType</th>\n",
              "      <th>isFraud</th>\n",
              "      <th>currentBalance</th>\n",
              "      <th>cardPresent</th>\n",
              "      <th>expirationDateKeyInMatch</th>\n",
              "      <th>daysSinceRegister</th>\n",
              "    </tr>\n",
              "  </thead>\n",
              "  <tbody>\n",
              "    <tr>\n",
              "      <th>0</th>\n",
              "      <td>733493772</td>\n",
              "      <td>733493772</td>\n",
              "      <td>5000</td>\n",
              "      <td>5000.00</td>\n",
              "      <td>2016-01-08 19:04:50</td>\n",
              "      <td>111.33</td>\n",
              "      <td>Lyft</td>\n",
              "      <td>US</td>\n",
              "      <td>US</td>\n",
              "      <td>5.0</td>\n",
              "      <td>...</td>\n",
              "      <td>2014-08-03</td>\n",
              "      <td>492</td>\n",
              "      <td>492</td>\n",
              "      <td>9184</td>\n",
              "      <td>PURCHASE</td>\n",
              "      <td>True</td>\n",
              "      <td>0.00</td>\n",
              "      <td>False</td>\n",
              "      <td>False</td>\n",
              "      <td>-523.795023</td>\n",
              "    </tr>\n",
              "    <tr>\n",
              "      <th>1</th>\n",
              "      <td>733493772</td>\n",
              "      <td>733493772</td>\n",
              "      <td>5000</td>\n",
              "      <td>4888.67</td>\n",
              "      <td>2016-01-09 22:32:39</td>\n",
              "      <td>24.75</td>\n",
              "      <td>Uber</td>\n",
              "      <td>US</td>\n",
              "      <td>US</td>\n",
              "      <td>9.0</td>\n",
              "      <td>...</td>\n",
              "      <td>2014-08-03</td>\n",
              "      <td>492</td>\n",
              "      <td>492</td>\n",
              "      <td>9184</td>\n",
              "      <td>PURCHASE</td>\n",
              "      <td>False</td>\n",
              "      <td>111.33</td>\n",
              "      <td>False</td>\n",
              "      <td>False</td>\n",
              "      <td>-524.939340</td>\n",
              "    </tr>\n",
              "    <tr>\n",
              "      <th>2</th>\n",
              "      <td>733493772</td>\n",
              "      <td>733493772</td>\n",
              "      <td>5000</td>\n",
              "      <td>4863.92</td>\n",
              "      <td>2016-01-11 13:36:55</td>\n",
              "      <td>187.40</td>\n",
              "      <td>Lyft</td>\n",
              "      <td>US</td>\n",
              "      <td>US</td>\n",
              "      <td>5.0</td>\n",
              "      <td>...</td>\n",
              "      <td>2014-08-03</td>\n",
              "      <td>492</td>\n",
              "      <td>492</td>\n",
              "      <td>9184</td>\n",
              "      <td>PURCHASE</td>\n",
              "      <td>False</td>\n",
              "      <td>136.08</td>\n",
              "      <td>False</td>\n",
              "      <td>False</td>\n",
              "      <td>-526.567303</td>\n",
              "    </tr>\n",
              "    <tr>\n",
              "      <th>3</th>\n",
              "      <td>733493772</td>\n",
              "      <td>733493772</td>\n",
              "      <td>5000</td>\n",
              "      <td>4676.52</td>\n",
              "      <td>2016-01-11 22:47:46</td>\n",
              "      <td>227.34</td>\n",
              "      <td>Lyft</td>\n",
              "      <td>US</td>\n",
              "      <td>US</td>\n",
              "      <td>2.0</td>\n",
              "      <td>...</td>\n",
              "      <td>2014-08-03</td>\n",
              "      <td>492</td>\n",
              "      <td>492</td>\n",
              "      <td>9184</td>\n",
              "      <td>PURCHASE</td>\n",
              "      <td>True</td>\n",
              "      <td>323.48</td>\n",
              "      <td>False</td>\n",
              "      <td>False</td>\n",
              "      <td>-526.949838</td>\n",
              "    </tr>\n",
              "    <tr>\n",
              "      <th>4</th>\n",
              "      <td>733493772</td>\n",
              "      <td>733493772</td>\n",
              "      <td>5000</td>\n",
              "      <td>4449.18</td>\n",
              "      <td>2016-01-16 01:41:11</td>\n",
              "      <td>0.00</td>\n",
              "      <td>Lyft</td>\n",
              "      <td>US</td>\n",
              "      <td>US</td>\n",
              "      <td>2.0</td>\n",
              "      <td>...</td>\n",
              "      <td>2014-08-03</td>\n",
              "      <td>492</td>\n",
              "      <td>492</td>\n",
              "      <td>9184</td>\n",
              "      <td>ADDRESS_VERIFICATION</td>\n",
              "      <td>False</td>\n",
              "      <td>550.82</td>\n",
              "      <td>False</td>\n",
              "      <td>False</td>\n",
              "      <td>-531.070266</td>\n",
              "    </tr>\n",
              "  </tbody>\n",
              "</table>\n",
              "<p>5 rows × 24 columns</p>\n",
              "</div>"
            ],
            "text/plain": [
              "   accountNumber  customerId  creditLimit  availableMoney transactionDateTime  \\\n",
              "0      733493772   733493772         5000         5000.00 2016-01-08 19:04:50   \n",
              "1      733493772   733493772         5000         4888.67 2016-01-09 22:32:39   \n",
              "2      733493772   733493772         5000         4863.92 2016-01-11 13:36:55   \n",
              "3      733493772   733493772         5000         4676.52 2016-01-11 22:47:46   \n",
              "4      733493772   733493772         5000         4449.18 2016-01-16 01:41:11   \n",
              "\n",
              "   transactionAmount merchantName acqCountry merchantCountryCode  \\\n",
              "0             111.33         Lyft         US                  US   \n",
              "1              24.75         Uber         US                  US   \n",
              "2             187.40         Lyft         US                  US   \n",
              "3             227.34         Lyft         US                  US   \n",
              "4               0.00         Lyft         US                  US   \n",
              "\n",
              "   posEntryMode  ...  dateOfLastAddressChange cardCVV enteredCVV  \\\n",
              "0           5.0  ...               2014-08-03     492        492   \n",
              "1           9.0  ...               2014-08-03     492        492   \n",
              "2           5.0  ...               2014-08-03     492        492   \n",
              "3           2.0  ...               2014-08-03     492        492   \n",
              "4           2.0  ...               2014-08-03     492        492   \n",
              "\n",
              "  cardLast4Digits       transactionType  isFraud  currentBalance  cardPresent  \\\n",
              "0            9184              PURCHASE     True            0.00        False   \n",
              "1            9184              PURCHASE    False          111.33        False   \n",
              "2            9184              PURCHASE    False          136.08        False   \n",
              "3            9184              PURCHASE     True          323.48        False   \n",
              "4            9184  ADDRESS_VERIFICATION    False          550.82        False   \n",
              "\n",
              "  expirationDateKeyInMatch  daysSinceRegister  \n",
              "0                    False        -523.795023  \n",
              "1                    False        -524.939340  \n",
              "2                    False        -526.567303  \n",
              "3                    False        -526.949838  \n",
              "4                    False        -531.070266  \n",
              "\n",
              "[5 rows x 24 columns]"
            ]
          },
          "metadata": {
            "tags": []
          },
          "execution_count": 102
        }
      ]
    },
    {
      "cell_type": "code",
      "metadata": {
        "id": "_vMKth-k1O0y",
        "colab_type": "code",
        "colab": {}
      },
      "source": [
        "tmp_df['daysToExpiration'] = tmp_df['currentExpDate'].sub(tmp_df['transactionDateTime'], axis=0)\n",
        "tmp_df['daysToExpiration']  = tmp_df['daysToExpiration']  / np.timedelta64(1, 'D')"
      ],
      "execution_count": null,
      "outputs": []
    },
    {
      "cell_type": "code",
      "metadata": {
        "id": "P4esNvxq1O04",
        "colab_type": "code",
        "colab": {}
      },
      "source": [
        "tmp_df['daySinceLastAddressChange'] = tmp_df['dateOfLastAddressChange'].sub(tmp_df['transactionDateTime'], axis=0)\n",
        "tmp_df['daySinceLastAddressChange']  = tmp_df['daySinceLastAddressChange']  / np.timedelta64(1, 'D')"
      ],
      "execution_count": null,
      "outputs": []
    },
    {
      "cell_type": "code",
      "metadata": {
        "id": "FU1S4YQS1O0-",
        "colab_type": "code",
        "colab": {}
      },
      "source": [
        "tmp_df['LastAddressChangeDiff'] = tmp_df['dateOfLastAddressChange'].sub(tmp_df['accountOpenDate'], axis=0)\n",
        "tmp_df['LastAddressChangeDiff']  = tmp_df['LastAddressChangeDiff']  / np.timedelta64(1, 'D')"
      ],
      "execution_count": null,
      "outputs": []
    },
    {
      "cell_type": "code",
      "metadata": {
        "id": "SWp1Kh-A1O1D",
        "colab_type": "code",
        "colab": {}
      },
      "source": [
        "tmp_df['trx_hour'] = tmp_df['transactionDateTime'].apply(lambda x: pd.to_datetime(x).hour)\n",
        "tmp_df['trx_day_of_week'] = tmp_df['transactionDateTime'].apply(lambda x: pd.to_datetime(x).dayofweek)\n",
        "tmp_df['trx_day'] = tmp_df['transactionDateTime'].apply(lambda x: pd.to_datetime(x).day)\n",
        "tmp_df['trx_month'] = tmp_df['transactionDateTime'].apply(lambda x: pd.to_datetime(x).month)"
      ],
      "execution_count": null,
      "outputs": []
    },
    {
      "cell_type": "code",
      "metadata": {
        "id": "D2lLFlCM1O1G",
        "colab_type": "code",
        "colab": {},
        "outputId": "ed80e3c2-10eb-47ce-dc2b-601f03e3f143"
      },
      "source": [
        "tmp_df"
      ],
      "execution_count": null,
      "outputs": [
        {
          "output_type": "execute_result",
          "data": {
            "text/html": [
              "<div>\n",
              "<style scoped>\n",
              "    .dataframe tbody tr th:only-of-type {\n",
              "        vertical-align: middle;\n",
              "    }\n",
              "\n",
              "    .dataframe tbody tr th {\n",
              "        vertical-align: top;\n",
              "    }\n",
              "\n",
              "    .dataframe thead th {\n",
              "        text-align: right;\n",
              "    }\n",
              "</style>\n",
              "<table border=\"1\" class=\"dataframe\">\n",
              "  <thead>\n",
              "    <tr style=\"text-align: right;\">\n",
              "      <th></th>\n",
              "      <th>accountNumber</th>\n",
              "      <th>customerId</th>\n",
              "      <th>creditLimit</th>\n",
              "      <th>availableMoney</th>\n",
              "      <th>transactionDateTime</th>\n",
              "      <th>transactionAmount</th>\n",
              "      <th>merchantName</th>\n",
              "      <th>acqCountry</th>\n",
              "      <th>merchantCountryCode</th>\n",
              "      <th>posEntryMode</th>\n",
              "      <th>...</th>\n",
              "      <th>cardPresent</th>\n",
              "      <th>expirationDateKeyInMatch</th>\n",
              "      <th>daysSinceRegister</th>\n",
              "      <th>daysToExpiration</th>\n",
              "      <th>daySinceLastAddressChange</th>\n",
              "      <th>LastAddressChangeDiff</th>\n",
              "      <th>trx_hour</th>\n",
              "      <th>trx_day_of_week</th>\n",
              "      <th>trx_day</th>\n",
              "      <th>trx_month</th>\n",
              "    </tr>\n",
              "  </thead>\n",
              "  <tbody>\n",
              "    <tr>\n",
              "      <th>0</th>\n",
              "      <td>733493772</td>\n",
              "      <td>733493772</td>\n",
              "      <td>5000</td>\n",
              "      <td>5000.00</td>\n",
              "      <td>2016-01-08 19:04:50</td>\n",
              "      <td>111.33</td>\n",
              "      <td>Lyft</td>\n",
              "      <td>US</td>\n",
              "      <td>US</td>\n",
              "      <td>5.0</td>\n",
              "      <td>...</td>\n",
              "      <td>False</td>\n",
              "      <td>False</td>\n",
              "      <td>-523.795023</td>\n",
              "      <td>1544.204977</td>\n",
              "      <td>-523.795023</td>\n",
              "      <td>0.0</td>\n",
              "      <td>19</td>\n",
              "      <td>4</td>\n",
              "      <td>8</td>\n",
              "      <td>1</td>\n",
              "    </tr>\n",
              "    <tr>\n",
              "      <th>1</th>\n",
              "      <td>733493772</td>\n",
              "      <td>733493772</td>\n",
              "      <td>5000</td>\n",
              "      <td>4888.67</td>\n",
              "      <td>2016-01-09 22:32:39</td>\n",
              "      <td>24.75</td>\n",
              "      <td>Uber</td>\n",
              "      <td>US</td>\n",
              "      <td>US</td>\n",
              "      <td>9.0</td>\n",
              "      <td>...</td>\n",
              "      <td>False</td>\n",
              "      <td>False</td>\n",
              "      <td>-524.939340</td>\n",
              "      <td>2699.060660</td>\n",
              "      <td>-524.939340</td>\n",
              "      <td>0.0</td>\n",
              "      <td>22</td>\n",
              "      <td>5</td>\n",
              "      <td>9</td>\n",
              "      <td>1</td>\n",
              "    </tr>\n",
              "    <tr>\n",
              "      <th>2</th>\n",
              "      <td>733493772</td>\n",
              "      <td>733493772</td>\n",
              "      <td>5000</td>\n",
              "      <td>4863.92</td>\n",
              "      <td>2016-01-11 13:36:55</td>\n",
              "      <td>187.40</td>\n",
              "      <td>Lyft</td>\n",
              "      <td>US</td>\n",
              "      <td>US</td>\n",
              "      <td>5.0</td>\n",
              "      <td>...</td>\n",
              "      <td>False</td>\n",
              "      <td>False</td>\n",
              "      <td>-526.567303</td>\n",
              "      <td>4341.432697</td>\n",
              "      <td>-526.567303</td>\n",
              "      <td>0.0</td>\n",
              "      <td>13</td>\n",
              "      <td>0</td>\n",
              "      <td>11</td>\n",
              "      <td>1</td>\n",
              "    </tr>\n",
              "    <tr>\n",
              "      <th>3</th>\n",
              "      <td>733493772</td>\n",
              "      <td>733493772</td>\n",
              "      <td>5000</td>\n",
              "      <td>4676.52</td>\n",
              "      <td>2016-01-11 22:47:46</td>\n",
              "      <td>227.34</td>\n",
              "      <td>Lyft</td>\n",
              "      <td>US</td>\n",
              "      <td>US</td>\n",
              "      <td>2.0</td>\n",
              "      <td>...</td>\n",
              "      <td>False</td>\n",
              "      <td>False</td>\n",
              "      <td>-526.949838</td>\n",
              "      <td>4981.050162</td>\n",
              "      <td>-526.949838</td>\n",
              "      <td>0.0</td>\n",
              "      <td>22</td>\n",
              "      <td>0</td>\n",
              "      <td>11</td>\n",
              "      <td>1</td>\n",
              "    </tr>\n",
              "    <tr>\n",
              "      <th>4</th>\n",
              "      <td>733493772</td>\n",
              "      <td>733493772</td>\n",
              "      <td>5000</td>\n",
              "      <td>4449.18</td>\n",
              "      <td>2016-01-16 01:41:11</td>\n",
              "      <td>0.00</td>\n",
              "      <td>Lyft</td>\n",
              "      <td>US</td>\n",
              "      <td>US</td>\n",
              "      <td>2.0</td>\n",
              "      <td>...</td>\n",
              "      <td>False</td>\n",
              "      <td>False</td>\n",
              "      <td>-531.070266</td>\n",
              "      <td>3180.929734</td>\n",
              "      <td>-531.070266</td>\n",
              "      <td>0.0</td>\n",
              "      <td>1</td>\n",
              "      <td>5</td>\n",
              "      <td>16</td>\n",
              "      <td>1</td>\n",
              "    </tr>\n",
              "    <tr>\n",
              "      <th>...</th>\n",
              "      <td>...</td>\n",
              "      <td>...</td>\n",
              "      <td>...</td>\n",
              "      <td>...</td>\n",
              "      <td>...</td>\n",
              "      <td>...</td>\n",
              "      <td>...</td>\n",
              "      <td>...</td>\n",
              "      <td>...</td>\n",
              "      <td>...</td>\n",
              "      <td>...</td>\n",
              "      <td>...</td>\n",
              "      <td>...</td>\n",
              "      <td>...</td>\n",
              "      <td>...</td>\n",
              "      <td>...</td>\n",
              "      <td>...</td>\n",
              "      <td>...</td>\n",
              "      <td>...</td>\n",
              "      <td>...</td>\n",
              "      <td>...</td>\n",
              "    </tr>\n",
              "    <tr>\n",
              "      <th>641909</th>\n",
              "      <td>186770399</td>\n",
              "      <td>186770399</td>\n",
              "      <td>7500</td>\n",
              "      <td>2574.02</td>\n",
              "      <td>2016-12-04 12:29:21</td>\n",
              "      <td>5.37</td>\n",
              "      <td>Apple iTunes</td>\n",
              "      <td>US</td>\n",
              "      <td>US</td>\n",
              "      <td>5.0</td>\n",
              "      <td>...</td>\n",
              "      <td>False</td>\n",
              "      <td>False</td>\n",
              "      <td>-396.520382</td>\n",
              "      <td>4775.479618</td>\n",
              "      <td>-184.520382</td>\n",
              "      <td>212.0</td>\n",
              "      <td>12</td>\n",
              "      <td>6</td>\n",
              "      <td>4</td>\n",
              "      <td>12</td>\n",
              "    </tr>\n",
              "    <tr>\n",
              "      <th>641910</th>\n",
              "      <td>186770399</td>\n",
              "      <td>186770399</td>\n",
              "      <td>7500</td>\n",
              "      <td>2568.65</td>\n",
              "      <td>2016-12-09 04:20:35</td>\n",
              "      <td>223.70</td>\n",
              "      <td>Blue Mountain eCards</td>\n",
              "      <td>US</td>\n",
              "      <td>US</td>\n",
              "      <td>9.0</td>\n",
              "      <td>...</td>\n",
              "      <td>False</td>\n",
              "      <td>False</td>\n",
              "      <td>-401.180961</td>\n",
              "      <td>3429.819039</td>\n",
              "      <td>-189.180961</td>\n",
              "      <td>212.0</td>\n",
              "      <td>4</td>\n",
              "      <td>4</td>\n",
              "      <td>9</td>\n",
              "      <td>12</td>\n",
              "    </tr>\n",
              "    <tr>\n",
              "      <th>641911</th>\n",
              "      <td>186770399</td>\n",
              "      <td>186770399</td>\n",
              "      <td>7500</td>\n",
              "      <td>2344.95</td>\n",
              "      <td>2016-12-16 07:58:23</td>\n",
              "      <td>138.42</td>\n",
              "      <td>Fresh Flowers</td>\n",
              "      <td>US</td>\n",
              "      <td>US</td>\n",
              "      <td>2.0</td>\n",
              "      <td>...</td>\n",
              "      <td>False</td>\n",
              "      <td>False</td>\n",
              "      <td>-408.332211</td>\n",
              "      <td>1018.667789</td>\n",
              "      <td>-196.332211</td>\n",
              "      <td>212.0</td>\n",
              "      <td>7</td>\n",
              "      <td>4</td>\n",
              "      <td>16</td>\n",
              "      <td>12</td>\n",
              "    </tr>\n",
              "    <tr>\n",
              "      <th>641912</th>\n",
              "      <td>186770399</td>\n",
              "      <td>186770399</td>\n",
              "      <td>7500</td>\n",
              "      <td>2206.53</td>\n",
              "      <td>2016-12-19 02:30:35</td>\n",
              "      <td>16.31</td>\n",
              "      <td>abc.com</td>\n",
              "      <td>US</td>\n",
              "      <td>US</td>\n",
              "      <td>9.0</td>\n",
              "      <td>...</td>\n",
              "      <td>False</td>\n",
              "      <td>False</td>\n",
              "      <td>-411.104572</td>\n",
              "      <td>4699.895428</td>\n",
              "      <td>-199.104572</td>\n",
              "      <td>212.0</td>\n",
              "      <td>2</td>\n",
              "      <td>0</td>\n",
              "      <td>19</td>\n",
              "      <td>12</td>\n",
              "    </tr>\n",
              "    <tr>\n",
              "      <th>641913</th>\n",
              "      <td>186770399</td>\n",
              "      <td>186770399</td>\n",
              "      <td>7500</td>\n",
              "      <td>2190.22</td>\n",
              "      <td>2016-12-28 11:14:14</td>\n",
              "      <td>32.53</td>\n",
              "      <td>Next Day Online Services</td>\n",
              "      <td>US</td>\n",
              "      <td>US</td>\n",
              "      <td>9.0</td>\n",
              "      <td>...</td>\n",
              "      <td>False</td>\n",
              "      <td>False</td>\n",
              "      <td>-420.468218</td>\n",
              "      <td>3137.531782</td>\n",
              "      <td>-208.468218</td>\n",
              "      <td>212.0</td>\n",
              "      <td>11</td>\n",
              "      <td>2</td>\n",
              "      <td>28</td>\n",
              "      <td>12</td>\n",
              "    </tr>\n",
              "  </tbody>\n",
              "</table>\n",
              "<p>641914 rows × 31 columns</p>\n",
              "</div>"
            ],
            "text/plain": [
              "        accountNumber  customerId  creditLimit  availableMoney  \\\n",
              "0           733493772   733493772         5000         5000.00   \n",
              "1           733493772   733493772         5000         4888.67   \n",
              "2           733493772   733493772         5000         4863.92   \n",
              "3           733493772   733493772         5000         4676.52   \n",
              "4           733493772   733493772         5000         4449.18   \n",
              "...               ...         ...          ...             ...   \n",
              "641909      186770399   186770399         7500         2574.02   \n",
              "641910      186770399   186770399         7500         2568.65   \n",
              "641911      186770399   186770399         7500         2344.95   \n",
              "641912      186770399   186770399         7500         2206.53   \n",
              "641913      186770399   186770399         7500         2190.22   \n",
              "\n",
              "       transactionDateTime  transactionAmount              merchantName  \\\n",
              "0      2016-01-08 19:04:50             111.33                      Lyft   \n",
              "1      2016-01-09 22:32:39              24.75                      Uber   \n",
              "2      2016-01-11 13:36:55             187.40                      Lyft   \n",
              "3      2016-01-11 22:47:46             227.34                      Lyft   \n",
              "4      2016-01-16 01:41:11               0.00                      Lyft   \n",
              "...                    ...                ...                       ...   \n",
              "641909 2016-12-04 12:29:21               5.37              Apple iTunes   \n",
              "641910 2016-12-09 04:20:35             223.70      Blue Mountain eCards   \n",
              "641911 2016-12-16 07:58:23             138.42             Fresh Flowers   \n",
              "641912 2016-12-19 02:30:35              16.31                   abc.com   \n",
              "641913 2016-12-28 11:14:14              32.53  Next Day Online Services   \n",
              "\n",
              "       acqCountry merchantCountryCode  posEntryMode  ...  cardPresent  \\\n",
              "0              US                  US           5.0  ...        False   \n",
              "1              US                  US           9.0  ...        False   \n",
              "2              US                  US           5.0  ...        False   \n",
              "3              US                  US           2.0  ...        False   \n",
              "4              US                  US           2.0  ...        False   \n",
              "...           ...                 ...           ...  ...          ...   \n",
              "641909         US                  US           5.0  ...        False   \n",
              "641910         US                  US           9.0  ...        False   \n",
              "641911         US                  US           2.0  ...        False   \n",
              "641912         US                  US           9.0  ...        False   \n",
              "641913         US                  US           9.0  ...        False   \n",
              "\n",
              "       expirationDateKeyInMatch daysSinceRegister daysToExpiration  \\\n",
              "0                         False       -523.795023      1544.204977   \n",
              "1                         False       -524.939340      2699.060660   \n",
              "2                         False       -526.567303      4341.432697   \n",
              "3                         False       -526.949838      4981.050162   \n",
              "4                         False       -531.070266      3180.929734   \n",
              "...                         ...               ...              ...   \n",
              "641909                    False       -396.520382      4775.479618   \n",
              "641910                    False       -401.180961      3429.819039   \n",
              "641911                    False       -408.332211      1018.667789   \n",
              "641912                    False       -411.104572      4699.895428   \n",
              "641913                    False       -420.468218      3137.531782   \n",
              "\n",
              "       daySinceLastAddressChange  LastAddressChangeDiff  trx_hour  \\\n",
              "0                    -523.795023                    0.0        19   \n",
              "1                    -524.939340                    0.0        22   \n",
              "2                    -526.567303                    0.0        13   \n",
              "3                    -526.949838                    0.0        22   \n",
              "4                    -531.070266                    0.0         1   \n",
              "...                          ...                    ...       ...   \n",
              "641909               -184.520382                  212.0        12   \n",
              "641910               -189.180961                  212.0         4   \n",
              "641911               -196.332211                  212.0         7   \n",
              "641912               -199.104572                  212.0         2   \n",
              "641913               -208.468218                  212.0        11   \n",
              "\n",
              "        trx_day_of_week trx_day  trx_month  \n",
              "0                     4       8          1  \n",
              "1                     5       9          1  \n",
              "2                     0      11          1  \n",
              "3                     0      11          1  \n",
              "4                     5      16          1  \n",
              "...                 ...     ...        ...  \n",
              "641909                6       4         12  \n",
              "641910                4       9         12  \n",
              "641911                4      16         12  \n",
              "641912                0      19         12  \n",
              "641913                2      28         12  \n",
              "\n",
              "[641914 rows x 31 columns]"
            ]
          },
          "metadata": {
            "tags": []
          },
          "execution_count": 107
        }
      ]
    },
    {
      "cell_type": "code",
      "metadata": {
        "id": "TDK1c4Zp1O1L",
        "colab_type": "code",
        "colab": {}
      },
      "source": [
        "tmp_df['CVVMatch'] = np.where((tmp_df['cardCVV'] == tmp_df['enteredCVV']), True, False)"
      ],
      "execution_count": null,
      "outputs": []
    },
    {
      "cell_type": "code",
      "metadata": {
        "id": "D2ik-KdE1O1Q",
        "colab_type": "code",
        "colab": {},
        "outputId": "8024d152-3507-4bda-e628-dbcbf261365f"
      },
      "source": [
        "tmp_df.head()"
      ],
      "execution_count": null,
      "outputs": [
        {
          "output_type": "execute_result",
          "data": {
            "text/html": [
              "<div>\n",
              "<style scoped>\n",
              "    .dataframe tbody tr th:only-of-type {\n",
              "        vertical-align: middle;\n",
              "    }\n",
              "\n",
              "    .dataframe tbody tr th {\n",
              "        vertical-align: top;\n",
              "    }\n",
              "\n",
              "    .dataframe thead th {\n",
              "        text-align: right;\n",
              "    }\n",
              "</style>\n",
              "<table border=\"1\" class=\"dataframe\">\n",
              "  <thead>\n",
              "    <tr style=\"text-align: right;\">\n",
              "      <th></th>\n",
              "      <th>accountNumber</th>\n",
              "      <th>customerId</th>\n",
              "      <th>creditLimit</th>\n",
              "      <th>availableMoney</th>\n",
              "      <th>transactionDateTime</th>\n",
              "      <th>transactionAmount</th>\n",
              "      <th>merchantName</th>\n",
              "      <th>acqCountry</th>\n",
              "      <th>merchantCountryCode</th>\n",
              "      <th>posEntryMode</th>\n",
              "      <th>...</th>\n",
              "      <th>expirationDateKeyInMatch</th>\n",
              "      <th>daysSinceRegister</th>\n",
              "      <th>daysToExpiration</th>\n",
              "      <th>daySinceLastAddressChange</th>\n",
              "      <th>LastAddressChangeDiff</th>\n",
              "      <th>trx_hour</th>\n",
              "      <th>trx_day_of_week</th>\n",
              "      <th>trx_day</th>\n",
              "      <th>trx_month</th>\n",
              "      <th>CVVMatch</th>\n",
              "    </tr>\n",
              "  </thead>\n",
              "  <tbody>\n",
              "    <tr>\n",
              "      <th>0</th>\n",
              "      <td>733493772</td>\n",
              "      <td>733493772</td>\n",
              "      <td>5000</td>\n",
              "      <td>5000.00</td>\n",
              "      <td>2016-01-08 19:04:50</td>\n",
              "      <td>111.33</td>\n",
              "      <td>Lyft</td>\n",
              "      <td>US</td>\n",
              "      <td>US</td>\n",
              "      <td>5.0</td>\n",
              "      <td>...</td>\n",
              "      <td>False</td>\n",
              "      <td>-523.795023</td>\n",
              "      <td>1544.204977</td>\n",
              "      <td>-523.795023</td>\n",
              "      <td>0.0</td>\n",
              "      <td>19</td>\n",
              "      <td>4</td>\n",
              "      <td>8</td>\n",
              "      <td>1</td>\n",
              "      <td>True</td>\n",
              "    </tr>\n",
              "    <tr>\n",
              "      <th>1</th>\n",
              "      <td>733493772</td>\n",
              "      <td>733493772</td>\n",
              "      <td>5000</td>\n",
              "      <td>4888.67</td>\n",
              "      <td>2016-01-09 22:32:39</td>\n",
              "      <td>24.75</td>\n",
              "      <td>Uber</td>\n",
              "      <td>US</td>\n",
              "      <td>US</td>\n",
              "      <td>9.0</td>\n",
              "      <td>...</td>\n",
              "      <td>False</td>\n",
              "      <td>-524.939340</td>\n",
              "      <td>2699.060660</td>\n",
              "      <td>-524.939340</td>\n",
              "      <td>0.0</td>\n",
              "      <td>22</td>\n",
              "      <td>5</td>\n",
              "      <td>9</td>\n",
              "      <td>1</td>\n",
              "      <td>True</td>\n",
              "    </tr>\n",
              "    <tr>\n",
              "      <th>2</th>\n",
              "      <td>733493772</td>\n",
              "      <td>733493772</td>\n",
              "      <td>5000</td>\n",
              "      <td>4863.92</td>\n",
              "      <td>2016-01-11 13:36:55</td>\n",
              "      <td>187.40</td>\n",
              "      <td>Lyft</td>\n",
              "      <td>US</td>\n",
              "      <td>US</td>\n",
              "      <td>5.0</td>\n",
              "      <td>...</td>\n",
              "      <td>False</td>\n",
              "      <td>-526.567303</td>\n",
              "      <td>4341.432697</td>\n",
              "      <td>-526.567303</td>\n",
              "      <td>0.0</td>\n",
              "      <td>13</td>\n",
              "      <td>0</td>\n",
              "      <td>11</td>\n",
              "      <td>1</td>\n",
              "      <td>True</td>\n",
              "    </tr>\n",
              "    <tr>\n",
              "      <th>3</th>\n",
              "      <td>733493772</td>\n",
              "      <td>733493772</td>\n",
              "      <td>5000</td>\n",
              "      <td>4676.52</td>\n",
              "      <td>2016-01-11 22:47:46</td>\n",
              "      <td>227.34</td>\n",
              "      <td>Lyft</td>\n",
              "      <td>US</td>\n",
              "      <td>US</td>\n",
              "      <td>2.0</td>\n",
              "      <td>...</td>\n",
              "      <td>False</td>\n",
              "      <td>-526.949838</td>\n",
              "      <td>4981.050162</td>\n",
              "      <td>-526.949838</td>\n",
              "      <td>0.0</td>\n",
              "      <td>22</td>\n",
              "      <td>0</td>\n",
              "      <td>11</td>\n",
              "      <td>1</td>\n",
              "      <td>True</td>\n",
              "    </tr>\n",
              "    <tr>\n",
              "      <th>4</th>\n",
              "      <td>733493772</td>\n",
              "      <td>733493772</td>\n",
              "      <td>5000</td>\n",
              "      <td>4449.18</td>\n",
              "      <td>2016-01-16 01:41:11</td>\n",
              "      <td>0.00</td>\n",
              "      <td>Lyft</td>\n",
              "      <td>US</td>\n",
              "      <td>US</td>\n",
              "      <td>2.0</td>\n",
              "      <td>...</td>\n",
              "      <td>False</td>\n",
              "      <td>-531.070266</td>\n",
              "      <td>3180.929734</td>\n",
              "      <td>-531.070266</td>\n",
              "      <td>0.0</td>\n",
              "      <td>1</td>\n",
              "      <td>5</td>\n",
              "      <td>16</td>\n",
              "      <td>1</td>\n",
              "      <td>True</td>\n",
              "    </tr>\n",
              "  </tbody>\n",
              "</table>\n",
              "<p>5 rows × 32 columns</p>\n",
              "</div>"
            ],
            "text/plain": [
              "   accountNumber  customerId  creditLimit  availableMoney transactionDateTime  \\\n",
              "0      733493772   733493772         5000         5000.00 2016-01-08 19:04:50   \n",
              "1      733493772   733493772         5000         4888.67 2016-01-09 22:32:39   \n",
              "2      733493772   733493772         5000         4863.92 2016-01-11 13:36:55   \n",
              "3      733493772   733493772         5000         4676.52 2016-01-11 22:47:46   \n",
              "4      733493772   733493772         5000         4449.18 2016-01-16 01:41:11   \n",
              "\n",
              "   transactionAmount merchantName acqCountry merchantCountryCode  \\\n",
              "0             111.33         Lyft         US                  US   \n",
              "1              24.75         Uber         US                  US   \n",
              "2             187.40         Lyft         US                  US   \n",
              "3             227.34         Lyft         US                  US   \n",
              "4               0.00         Lyft         US                  US   \n",
              "\n",
              "   posEntryMode  ...  expirationDateKeyInMatch daysSinceRegister  \\\n",
              "0           5.0  ...                     False       -523.795023   \n",
              "1           9.0  ...                     False       -524.939340   \n",
              "2           5.0  ...                     False       -526.567303   \n",
              "3           2.0  ...                     False       -526.949838   \n",
              "4           2.0  ...                     False       -531.070266   \n",
              "\n",
              "  daysToExpiration daySinceLastAddressChange LastAddressChangeDiff  trx_hour  \\\n",
              "0      1544.204977               -523.795023                   0.0        19   \n",
              "1      2699.060660               -524.939340                   0.0        22   \n",
              "2      4341.432697               -526.567303                   0.0        13   \n",
              "3      4981.050162               -526.949838                   0.0        22   \n",
              "4      3180.929734               -531.070266                   0.0         1   \n",
              "\n",
              "   trx_day_of_week  trx_day trx_month  CVVMatch  \n",
              "0                4        8         1      True  \n",
              "1                5        9         1      True  \n",
              "2                0       11         1      True  \n",
              "3                0       11         1      True  \n",
              "4                5       16         1      True  \n",
              "\n",
              "[5 rows x 32 columns]"
            ]
          },
          "metadata": {
            "tags": []
          },
          "execution_count": 109
        }
      ]
    },
    {
      "cell_type": "code",
      "metadata": {
        "id": "gvGhDCYr1O1V",
        "colab_type": "code",
        "colab": {},
        "outputId": "9da2f386-7e16-40d8-df38-37496a2af3f5"
      },
      "source": [
        "tmp_df.drop(columns=['transactionDateTime','accountOpenDate','currentExpDate','dateOfLastAddressChange','cardCVV','enteredCVV',\n",
        "                     'cardLast4Digits','merchantName'], axis = 1,inplace = True)\n",
        "tmp_df.head()"
      ],
      "execution_count": null,
      "outputs": [
        {
          "output_type": "execute_result",
          "data": {
            "text/html": [
              "<div>\n",
              "<style scoped>\n",
              "    .dataframe tbody tr th:only-of-type {\n",
              "        vertical-align: middle;\n",
              "    }\n",
              "\n",
              "    .dataframe tbody tr th {\n",
              "        vertical-align: top;\n",
              "    }\n",
              "\n",
              "    .dataframe thead th {\n",
              "        text-align: right;\n",
              "    }\n",
              "</style>\n",
              "<table border=\"1\" class=\"dataframe\">\n",
              "  <thead>\n",
              "    <tr style=\"text-align: right;\">\n",
              "      <th></th>\n",
              "      <th>accountNumber</th>\n",
              "      <th>customerId</th>\n",
              "      <th>creditLimit</th>\n",
              "      <th>availableMoney</th>\n",
              "      <th>transactionAmount</th>\n",
              "      <th>acqCountry</th>\n",
              "      <th>merchantCountryCode</th>\n",
              "      <th>posEntryMode</th>\n",
              "      <th>posConditionCode</th>\n",
              "      <th>merchantCategoryCode</th>\n",
              "      <th>...</th>\n",
              "      <th>expirationDateKeyInMatch</th>\n",
              "      <th>daysSinceRegister</th>\n",
              "      <th>daysToExpiration</th>\n",
              "      <th>daySinceLastAddressChange</th>\n",
              "      <th>LastAddressChangeDiff</th>\n",
              "      <th>trx_hour</th>\n",
              "      <th>trx_day_of_week</th>\n",
              "      <th>trx_day</th>\n",
              "      <th>trx_month</th>\n",
              "      <th>CVVMatch</th>\n",
              "    </tr>\n",
              "  </thead>\n",
              "  <tbody>\n",
              "    <tr>\n",
              "      <th>0</th>\n",
              "      <td>733493772</td>\n",
              "      <td>733493772</td>\n",
              "      <td>5000</td>\n",
              "      <td>5000.00</td>\n",
              "      <td>111.33</td>\n",
              "      <td>US</td>\n",
              "      <td>US</td>\n",
              "      <td>5.0</td>\n",
              "      <td>1.0</td>\n",
              "      <td>rideshare</td>\n",
              "      <td>...</td>\n",
              "      <td>False</td>\n",
              "      <td>-523.795023</td>\n",
              "      <td>1544.204977</td>\n",
              "      <td>-523.795023</td>\n",
              "      <td>0.0</td>\n",
              "      <td>19</td>\n",
              "      <td>4</td>\n",
              "      <td>8</td>\n",
              "      <td>1</td>\n",
              "      <td>True</td>\n",
              "    </tr>\n",
              "    <tr>\n",
              "      <th>1</th>\n",
              "      <td>733493772</td>\n",
              "      <td>733493772</td>\n",
              "      <td>5000</td>\n",
              "      <td>4888.67</td>\n",
              "      <td>24.75</td>\n",
              "      <td>US</td>\n",
              "      <td>US</td>\n",
              "      <td>9.0</td>\n",
              "      <td>1.0</td>\n",
              "      <td>rideshare</td>\n",
              "      <td>...</td>\n",
              "      <td>False</td>\n",
              "      <td>-524.939340</td>\n",
              "      <td>2699.060660</td>\n",
              "      <td>-524.939340</td>\n",
              "      <td>0.0</td>\n",
              "      <td>22</td>\n",
              "      <td>5</td>\n",
              "      <td>9</td>\n",
              "      <td>1</td>\n",
              "      <td>True</td>\n",
              "    </tr>\n",
              "    <tr>\n",
              "      <th>2</th>\n",
              "      <td>733493772</td>\n",
              "      <td>733493772</td>\n",
              "      <td>5000</td>\n",
              "      <td>4863.92</td>\n",
              "      <td>187.40</td>\n",
              "      <td>US</td>\n",
              "      <td>US</td>\n",
              "      <td>5.0</td>\n",
              "      <td>1.0</td>\n",
              "      <td>rideshare</td>\n",
              "      <td>...</td>\n",
              "      <td>False</td>\n",
              "      <td>-526.567303</td>\n",
              "      <td>4341.432697</td>\n",
              "      <td>-526.567303</td>\n",
              "      <td>0.0</td>\n",
              "      <td>13</td>\n",
              "      <td>0</td>\n",
              "      <td>11</td>\n",
              "      <td>1</td>\n",
              "      <td>True</td>\n",
              "    </tr>\n",
              "    <tr>\n",
              "      <th>3</th>\n",
              "      <td>733493772</td>\n",
              "      <td>733493772</td>\n",
              "      <td>5000</td>\n",
              "      <td>4676.52</td>\n",
              "      <td>227.34</td>\n",
              "      <td>US</td>\n",
              "      <td>US</td>\n",
              "      <td>2.0</td>\n",
              "      <td>1.0</td>\n",
              "      <td>rideshare</td>\n",
              "      <td>...</td>\n",
              "      <td>False</td>\n",
              "      <td>-526.949838</td>\n",
              "      <td>4981.050162</td>\n",
              "      <td>-526.949838</td>\n",
              "      <td>0.0</td>\n",
              "      <td>22</td>\n",
              "      <td>0</td>\n",
              "      <td>11</td>\n",
              "      <td>1</td>\n",
              "      <td>True</td>\n",
              "    </tr>\n",
              "    <tr>\n",
              "      <th>4</th>\n",
              "      <td>733493772</td>\n",
              "      <td>733493772</td>\n",
              "      <td>5000</td>\n",
              "      <td>4449.18</td>\n",
              "      <td>0.00</td>\n",
              "      <td>US</td>\n",
              "      <td>US</td>\n",
              "      <td>2.0</td>\n",
              "      <td>1.0</td>\n",
              "      <td>rideshare</td>\n",
              "      <td>...</td>\n",
              "      <td>False</td>\n",
              "      <td>-531.070266</td>\n",
              "      <td>3180.929734</td>\n",
              "      <td>-531.070266</td>\n",
              "      <td>0.0</td>\n",
              "      <td>1</td>\n",
              "      <td>5</td>\n",
              "      <td>16</td>\n",
              "      <td>1</td>\n",
              "      <td>True</td>\n",
              "    </tr>\n",
              "  </tbody>\n",
              "</table>\n",
              "<p>5 rows × 24 columns</p>\n",
              "</div>"
            ],
            "text/plain": [
              "   accountNumber  customerId  creditLimit  availableMoney  transactionAmount  \\\n",
              "0      733493772   733493772         5000         5000.00             111.33   \n",
              "1      733493772   733493772         5000         4888.67              24.75   \n",
              "2      733493772   733493772         5000         4863.92             187.40   \n",
              "3      733493772   733493772         5000         4676.52             227.34   \n",
              "4      733493772   733493772         5000         4449.18               0.00   \n",
              "\n",
              "  acqCountry merchantCountryCode  posEntryMode  posConditionCode  \\\n",
              "0         US                  US           5.0               1.0   \n",
              "1         US                  US           9.0               1.0   \n",
              "2         US                  US           5.0               1.0   \n",
              "3         US                  US           2.0               1.0   \n",
              "4         US                  US           2.0               1.0   \n",
              "\n",
              "  merchantCategoryCode  ... expirationDateKeyInMatch  daysSinceRegister  \\\n",
              "0            rideshare  ...                    False        -523.795023   \n",
              "1            rideshare  ...                    False        -524.939340   \n",
              "2            rideshare  ...                    False        -526.567303   \n",
              "3            rideshare  ...                    False        -526.949838   \n",
              "4            rideshare  ...                    False        -531.070266   \n",
              "\n",
              "   daysToExpiration  daySinceLastAddressChange  LastAddressChangeDiff  \\\n",
              "0       1544.204977                -523.795023                    0.0   \n",
              "1       2699.060660                -524.939340                    0.0   \n",
              "2       4341.432697                -526.567303                    0.0   \n",
              "3       4981.050162                -526.949838                    0.0   \n",
              "4       3180.929734                -531.070266                    0.0   \n",
              "\n",
              "   trx_hour  trx_day_of_week  trx_day  trx_month  CVVMatch  \n",
              "0        19                4        8          1      True  \n",
              "1        22                5        9          1      True  \n",
              "2        13                0       11          1      True  \n",
              "3        22                0       11          1      True  \n",
              "4         1                5       16          1      True  \n",
              "\n",
              "[5 rows x 24 columns]"
            ]
          },
          "metadata": {
            "tags": []
          },
          "execution_count": 110
        }
      ]
    },
    {
      "cell_type": "code",
      "metadata": {
        "id": "7r_tkYve1O1b",
        "colab_type": "code",
        "colab": {},
        "outputId": "6b6ab19e-4507-4f3d-9a19-18ec89156ae9"
      },
      "source": [
        "tmp_df.info()"
      ],
      "execution_count": null,
      "outputs": [
        {
          "output_type": "stream",
          "text": [
            "<class 'pandas.core.frame.DataFrame'>\n",
            "RangeIndex: 641914 entries, 0 to 641913\n",
            "Data columns (total 24 columns):\n",
            " #   Column                     Non-Null Count   Dtype  \n",
            "---  ------                     --------------   -----  \n",
            " 0   accountNumber              641914 non-null  int64  \n",
            " 1   customerId                 641914 non-null  int64  \n",
            " 2   creditLimit                641914 non-null  int64  \n",
            " 3   availableMoney             641914 non-null  float64\n",
            " 4   transactionAmount          641914 non-null  float64\n",
            " 5   acqCountry                 641914 non-null  object \n",
            " 6   merchantCountryCode        641914 non-null  object \n",
            " 7   posEntryMode               641914 non-null  float64\n",
            " 8   posConditionCode           641914 non-null  float64\n",
            " 9   merchantCategoryCode       641914 non-null  object \n",
            " 10  transactionType            641914 non-null  object \n",
            " 11  isFraud                    641914 non-null  bool   \n",
            " 12  currentBalance             641914 non-null  float64\n",
            " 13  cardPresent                641914 non-null  bool   \n",
            " 14  expirationDateKeyInMatch   641914 non-null  bool   \n",
            " 15  daysSinceRegister          641914 non-null  float64\n",
            " 16  daysToExpiration           641914 non-null  float64\n",
            " 17  daySinceLastAddressChange  641914 non-null  float64\n",
            " 18  LastAddressChangeDiff      641914 non-null  float64\n",
            " 19  trx_hour                   641914 non-null  int64  \n",
            " 20  trx_day_of_week            641914 non-null  int64  \n",
            " 21  trx_day                    641914 non-null  int64  \n",
            " 22  trx_month                  641914 non-null  int64  \n",
            " 23  CVVMatch                   641914 non-null  bool   \n",
            "dtypes: bool(4), float64(9), int64(7), object(4)\n",
            "memory usage: 100.4+ MB\n"
          ],
          "name": "stdout"
        }
      ]
    },
    {
      "cell_type": "code",
      "metadata": {
        "id": "vrTQiDqF1O1k",
        "colab_type": "code",
        "colab": {}
      },
      "source": [
        "binary_col = ['isFraud','cardPresent','expirationDateKeyInMatch','CVVMatch']\n",
        "for col in binary_col:\n",
        "    tmp_df[col] = tmp_df[col].apply(lambda x: 1 if x == True else 0)"
      ],
      "execution_count": null,
      "outputs": []
    },
    {
      "cell_type": "code",
      "metadata": {
        "id": "4OPgLwoG1O1u",
        "colab_type": "code",
        "colab": {}
      },
      "source": [
        "char_column = ['acqCountry','posConditionCode','posEntryMode','transactionType',\n",
        "               'merchantCategoryCode','merchantCountryCode']"
      ],
      "execution_count": null,
      "outputs": []
    },
    {
      "cell_type": "code",
      "metadata": {
        "id": "YdwZOeXS1O1z",
        "colab_type": "code",
        "colab": {}
      },
      "source": [
        "from sklearn.preprocessing import OneHotEncoder"
      ],
      "execution_count": null,
      "outputs": []
    },
    {
      "cell_type": "code",
      "metadata": {
        "id": "W258y0cc1O17",
        "colab_type": "code",
        "colab": {}
      },
      "source": [
        "encoder = OneHotEncoder(categories='auto').fit(tmp_df[char_column])"
      ],
      "execution_count": null,
      "outputs": []
    },
    {
      "cell_type": "code",
      "metadata": {
        "id": "6CCNCPSm1O2G",
        "colab_type": "code",
        "colab": {},
        "outputId": "b3b1dad5-d85f-4ba2-d529-4fa5d7f5e9d9"
      },
      "source": [
        "transformed_data = encoder.transform(tmp_df[char_column]).toarray()\n",
        "transformed_data\n"
      ],
      "execution_count": null,
      "outputs": [
        {
          "output_type": "execute_result",
          "data": {
            "text/plain": [
              "array([[0., 0., 0., ..., 0., 0., 1.],\n",
              "       [0., 0., 0., ..., 0., 0., 1.],\n",
              "       [0., 0., 0., ..., 0., 0., 1.],\n",
              "       ...,\n",
              "       [0., 0., 0., ..., 0., 0., 1.],\n",
              "       [0., 0., 0., ..., 0., 0., 1.],\n",
              "       [0., 0., 0., ..., 0., 0., 1.]])"
            ]
          },
          "metadata": {
            "tags": []
          },
          "execution_count": 116
        }
      ]
    },
    {
      "cell_type": "code",
      "metadata": {
        "id": "SGyR3-HH1O2Q",
        "colab_type": "code",
        "colab": {},
        "outputId": "aca20852-b968-43ec-a3d7-97191c4dc24f"
      },
      "source": [
        "transformed_data = pd.DataFrame(transformed_data,columns=encoder.get_feature_names(char_column))\n",
        "transformed_data"
      ],
      "execution_count": null,
      "outputs": [
        {
          "output_type": "execute_result",
          "data": {
            "text/html": [
              "<div>\n",
              "<style scoped>\n",
              "    .dataframe tbody tr th:only-of-type {\n",
              "        vertical-align: middle;\n",
              "    }\n",
              "\n",
              "    .dataframe tbody tr th {\n",
              "        vertical-align: top;\n",
              "    }\n",
              "\n",
              "    .dataframe thead th {\n",
              "        text-align: right;\n",
              "    }\n",
              "</style>\n",
              "<table border=\"1\" class=\"dataframe\">\n",
              "  <thead>\n",
              "    <tr style=\"text-align: right;\">\n",
              "      <th></th>\n",
              "      <th>acqCountry_CAN</th>\n",
              "      <th>acqCountry_MEX</th>\n",
              "      <th>acqCountry_PR</th>\n",
              "      <th>acqCountry_US</th>\n",
              "      <th>posConditionCode_1.0</th>\n",
              "      <th>posConditionCode_8.0</th>\n",
              "      <th>posConditionCode_99.0</th>\n",
              "      <th>posEntryMode_2.0</th>\n",
              "      <th>posEntryMode_5.0</th>\n",
              "      <th>posEntryMode_9.0</th>\n",
              "      <th>...</th>\n",
              "      <th>merchantCategoryCode_online_gifts</th>\n",
              "      <th>merchantCategoryCode_online_retail</th>\n",
              "      <th>merchantCategoryCode_online_subscriptions</th>\n",
              "      <th>merchantCategoryCode_personal care</th>\n",
              "      <th>merchantCategoryCode_rideshare</th>\n",
              "      <th>merchantCategoryCode_subscriptions</th>\n",
              "      <th>merchantCountryCode_CAN</th>\n",
              "      <th>merchantCountryCode_MEX</th>\n",
              "      <th>merchantCountryCode_PR</th>\n",
              "      <th>merchantCountryCode_US</th>\n",
              "    </tr>\n",
              "  </thead>\n",
              "  <tbody>\n",
              "    <tr>\n",
              "      <th>0</th>\n",
              "      <td>0.0</td>\n",
              "      <td>0.0</td>\n",
              "      <td>0.0</td>\n",
              "      <td>1.0</td>\n",
              "      <td>1.0</td>\n",
              "      <td>0.0</td>\n",
              "      <td>0.0</td>\n",
              "      <td>0.0</td>\n",
              "      <td>1.0</td>\n",
              "      <td>0.0</td>\n",
              "      <td>...</td>\n",
              "      <td>0.0</td>\n",
              "      <td>0.0</td>\n",
              "      <td>0.0</td>\n",
              "      <td>0.0</td>\n",
              "      <td>1.0</td>\n",
              "      <td>0.0</td>\n",
              "      <td>0.0</td>\n",
              "      <td>0.0</td>\n",
              "      <td>0.0</td>\n",
              "      <td>1.0</td>\n",
              "    </tr>\n",
              "    <tr>\n",
              "      <th>1</th>\n",
              "      <td>0.0</td>\n",
              "      <td>0.0</td>\n",
              "      <td>0.0</td>\n",
              "      <td>1.0</td>\n",
              "      <td>1.0</td>\n",
              "      <td>0.0</td>\n",
              "      <td>0.0</td>\n",
              "      <td>0.0</td>\n",
              "      <td>0.0</td>\n",
              "      <td>1.0</td>\n",
              "      <td>...</td>\n",
              "      <td>0.0</td>\n",
              "      <td>0.0</td>\n",
              "      <td>0.0</td>\n",
              "      <td>0.0</td>\n",
              "      <td>1.0</td>\n",
              "      <td>0.0</td>\n",
              "      <td>0.0</td>\n",
              "      <td>0.0</td>\n",
              "      <td>0.0</td>\n",
              "      <td>1.0</td>\n",
              "    </tr>\n",
              "    <tr>\n",
              "      <th>2</th>\n",
              "      <td>0.0</td>\n",
              "      <td>0.0</td>\n",
              "      <td>0.0</td>\n",
              "      <td>1.0</td>\n",
              "      <td>1.0</td>\n",
              "      <td>0.0</td>\n",
              "      <td>0.0</td>\n",
              "      <td>0.0</td>\n",
              "      <td>1.0</td>\n",
              "      <td>0.0</td>\n",
              "      <td>...</td>\n",
              "      <td>0.0</td>\n",
              "      <td>0.0</td>\n",
              "      <td>0.0</td>\n",
              "      <td>0.0</td>\n",
              "      <td>1.0</td>\n",
              "      <td>0.0</td>\n",
              "      <td>0.0</td>\n",
              "      <td>0.0</td>\n",
              "      <td>0.0</td>\n",
              "      <td>1.0</td>\n",
              "    </tr>\n",
              "    <tr>\n",
              "      <th>3</th>\n",
              "      <td>0.0</td>\n",
              "      <td>0.0</td>\n",
              "      <td>0.0</td>\n",
              "      <td>1.0</td>\n",
              "      <td>1.0</td>\n",
              "      <td>0.0</td>\n",
              "      <td>0.0</td>\n",
              "      <td>1.0</td>\n",
              "      <td>0.0</td>\n",
              "      <td>0.0</td>\n",
              "      <td>...</td>\n",
              "      <td>0.0</td>\n",
              "      <td>0.0</td>\n",
              "      <td>0.0</td>\n",
              "      <td>0.0</td>\n",
              "      <td>1.0</td>\n",
              "      <td>0.0</td>\n",
              "      <td>0.0</td>\n",
              "      <td>0.0</td>\n",
              "      <td>0.0</td>\n",
              "      <td>1.0</td>\n",
              "    </tr>\n",
              "    <tr>\n",
              "      <th>4</th>\n",
              "      <td>0.0</td>\n",
              "      <td>0.0</td>\n",
              "      <td>0.0</td>\n",
              "      <td>1.0</td>\n",
              "      <td>1.0</td>\n",
              "      <td>0.0</td>\n",
              "      <td>0.0</td>\n",
              "      <td>1.0</td>\n",
              "      <td>0.0</td>\n",
              "      <td>0.0</td>\n",
              "      <td>...</td>\n",
              "      <td>0.0</td>\n",
              "      <td>0.0</td>\n",
              "      <td>0.0</td>\n",
              "      <td>0.0</td>\n",
              "      <td>1.0</td>\n",
              "      <td>0.0</td>\n",
              "      <td>0.0</td>\n",
              "      <td>0.0</td>\n",
              "      <td>0.0</td>\n",
              "      <td>1.0</td>\n",
              "    </tr>\n",
              "    <tr>\n",
              "      <th>...</th>\n",
              "      <td>...</td>\n",
              "      <td>...</td>\n",
              "      <td>...</td>\n",
              "      <td>...</td>\n",
              "      <td>...</td>\n",
              "      <td>...</td>\n",
              "      <td>...</td>\n",
              "      <td>...</td>\n",
              "      <td>...</td>\n",
              "      <td>...</td>\n",
              "      <td>...</td>\n",
              "      <td>...</td>\n",
              "      <td>...</td>\n",
              "      <td>...</td>\n",
              "      <td>...</td>\n",
              "      <td>...</td>\n",
              "      <td>...</td>\n",
              "      <td>...</td>\n",
              "      <td>...</td>\n",
              "      <td>...</td>\n",
              "      <td>...</td>\n",
              "    </tr>\n",
              "    <tr>\n",
              "      <th>641909</th>\n",
              "      <td>0.0</td>\n",
              "      <td>0.0</td>\n",
              "      <td>0.0</td>\n",
              "      <td>1.0</td>\n",
              "      <td>0.0</td>\n",
              "      <td>1.0</td>\n",
              "      <td>0.0</td>\n",
              "      <td>0.0</td>\n",
              "      <td>1.0</td>\n",
              "      <td>0.0</td>\n",
              "      <td>...</td>\n",
              "      <td>0.0</td>\n",
              "      <td>0.0</td>\n",
              "      <td>0.0</td>\n",
              "      <td>0.0</td>\n",
              "      <td>0.0</td>\n",
              "      <td>0.0</td>\n",
              "      <td>0.0</td>\n",
              "      <td>0.0</td>\n",
              "      <td>0.0</td>\n",
              "      <td>1.0</td>\n",
              "    </tr>\n",
              "    <tr>\n",
              "      <th>641910</th>\n",
              "      <td>0.0</td>\n",
              "      <td>0.0</td>\n",
              "      <td>0.0</td>\n",
              "      <td>1.0</td>\n",
              "      <td>1.0</td>\n",
              "      <td>0.0</td>\n",
              "      <td>0.0</td>\n",
              "      <td>0.0</td>\n",
              "      <td>0.0</td>\n",
              "      <td>1.0</td>\n",
              "      <td>...</td>\n",
              "      <td>1.0</td>\n",
              "      <td>0.0</td>\n",
              "      <td>0.0</td>\n",
              "      <td>0.0</td>\n",
              "      <td>0.0</td>\n",
              "      <td>0.0</td>\n",
              "      <td>0.0</td>\n",
              "      <td>0.0</td>\n",
              "      <td>0.0</td>\n",
              "      <td>1.0</td>\n",
              "    </tr>\n",
              "    <tr>\n",
              "      <th>641911</th>\n",
              "      <td>0.0</td>\n",
              "      <td>0.0</td>\n",
              "      <td>0.0</td>\n",
              "      <td>1.0</td>\n",
              "      <td>1.0</td>\n",
              "      <td>0.0</td>\n",
              "      <td>0.0</td>\n",
              "      <td>1.0</td>\n",
              "      <td>0.0</td>\n",
              "      <td>0.0</td>\n",
              "      <td>...</td>\n",
              "      <td>1.0</td>\n",
              "      <td>0.0</td>\n",
              "      <td>0.0</td>\n",
              "      <td>0.0</td>\n",
              "      <td>0.0</td>\n",
              "      <td>0.0</td>\n",
              "      <td>0.0</td>\n",
              "      <td>0.0</td>\n",
              "      <td>0.0</td>\n",
              "      <td>1.0</td>\n",
              "    </tr>\n",
              "    <tr>\n",
              "      <th>641912</th>\n",
              "      <td>0.0</td>\n",
              "      <td>0.0</td>\n",
              "      <td>0.0</td>\n",
              "      <td>1.0</td>\n",
              "      <td>0.0</td>\n",
              "      <td>1.0</td>\n",
              "      <td>0.0</td>\n",
              "      <td>0.0</td>\n",
              "      <td>0.0</td>\n",
              "      <td>1.0</td>\n",
              "      <td>...</td>\n",
              "      <td>0.0</td>\n",
              "      <td>0.0</td>\n",
              "      <td>1.0</td>\n",
              "      <td>0.0</td>\n",
              "      <td>0.0</td>\n",
              "      <td>0.0</td>\n",
              "      <td>0.0</td>\n",
              "      <td>0.0</td>\n",
              "      <td>0.0</td>\n",
              "      <td>1.0</td>\n",
              "    </tr>\n",
              "    <tr>\n",
              "      <th>641913</th>\n",
              "      <td>0.0</td>\n",
              "      <td>0.0</td>\n",
              "      <td>0.0</td>\n",
              "      <td>1.0</td>\n",
              "      <td>1.0</td>\n",
              "      <td>0.0</td>\n",
              "      <td>0.0</td>\n",
              "      <td>0.0</td>\n",
              "      <td>0.0</td>\n",
              "      <td>1.0</td>\n",
              "      <td>...</td>\n",
              "      <td>1.0</td>\n",
              "      <td>0.0</td>\n",
              "      <td>0.0</td>\n",
              "      <td>0.0</td>\n",
              "      <td>0.0</td>\n",
              "      <td>0.0</td>\n",
              "      <td>0.0</td>\n",
              "      <td>0.0</td>\n",
              "      <td>0.0</td>\n",
              "      <td>1.0</td>\n",
              "    </tr>\n",
              "  </tbody>\n",
              "</table>\n",
              "<p>641914 rows × 38 columns</p>\n",
              "</div>"
            ],
            "text/plain": [
              "        acqCountry_CAN  acqCountry_MEX  acqCountry_PR  acqCountry_US  \\\n",
              "0                  0.0             0.0            0.0            1.0   \n",
              "1                  0.0             0.0            0.0            1.0   \n",
              "2                  0.0             0.0            0.0            1.0   \n",
              "3                  0.0             0.0            0.0            1.0   \n",
              "4                  0.0             0.0            0.0            1.0   \n",
              "...                ...             ...            ...            ...   \n",
              "641909             0.0             0.0            0.0            1.0   \n",
              "641910             0.0             0.0            0.0            1.0   \n",
              "641911             0.0             0.0            0.0            1.0   \n",
              "641912             0.0             0.0            0.0            1.0   \n",
              "641913             0.0             0.0            0.0            1.0   \n",
              "\n",
              "        posConditionCode_1.0  posConditionCode_8.0  posConditionCode_99.0  \\\n",
              "0                        1.0                   0.0                    0.0   \n",
              "1                        1.0                   0.0                    0.0   \n",
              "2                        1.0                   0.0                    0.0   \n",
              "3                        1.0                   0.0                    0.0   \n",
              "4                        1.0                   0.0                    0.0   \n",
              "...                      ...                   ...                    ...   \n",
              "641909                   0.0                   1.0                    0.0   \n",
              "641910                   1.0                   0.0                    0.0   \n",
              "641911                   1.0                   0.0                    0.0   \n",
              "641912                   0.0                   1.0                    0.0   \n",
              "641913                   1.0                   0.0                    0.0   \n",
              "\n",
              "        posEntryMode_2.0  posEntryMode_5.0  posEntryMode_9.0  ...  \\\n",
              "0                    0.0               1.0               0.0  ...   \n",
              "1                    0.0               0.0               1.0  ...   \n",
              "2                    0.0               1.0               0.0  ...   \n",
              "3                    1.0               0.0               0.0  ...   \n",
              "4                    1.0               0.0               0.0  ...   \n",
              "...                  ...               ...               ...  ...   \n",
              "641909               0.0               1.0               0.0  ...   \n",
              "641910               0.0               0.0               1.0  ...   \n",
              "641911               1.0               0.0               0.0  ...   \n",
              "641912               0.0               0.0               1.0  ...   \n",
              "641913               0.0               0.0               1.0  ...   \n",
              "\n",
              "        merchantCategoryCode_online_gifts  merchantCategoryCode_online_retail  \\\n",
              "0                                     0.0                                 0.0   \n",
              "1                                     0.0                                 0.0   \n",
              "2                                     0.0                                 0.0   \n",
              "3                                     0.0                                 0.0   \n",
              "4                                     0.0                                 0.0   \n",
              "...                                   ...                                 ...   \n",
              "641909                                0.0                                 0.0   \n",
              "641910                                1.0                                 0.0   \n",
              "641911                                1.0                                 0.0   \n",
              "641912                                0.0                                 0.0   \n",
              "641913                                1.0                                 0.0   \n",
              "\n",
              "        merchantCategoryCode_online_subscriptions  \\\n",
              "0                                             0.0   \n",
              "1                                             0.0   \n",
              "2                                             0.0   \n",
              "3                                             0.0   \n",
              "4                                             0.0   \n",
              "...                                           ...   \n",
              "641909                                        0.0   \n",
              "641910                                        0.0   \n",
              "641911                                        0.0   \n",
              "641912                                        1.0   \n",
              "641913                                        0.0   \n",
              "\n",
              "        merchantCategoryCode_personal care  merchantCategoryCode_rideshare  \\\n",
              "0                                      0.0                             1.0   \n",
              "1                                      0.0                             1.0   \n",
              "2                                      0.0                             1.0   \n",
              "3                                      0.0                             1.0   \n",
              "4                                      0.0                             1.0   \n",
              "...                                    ...                             ...   \n",
              "641909                                 0.0                             0.0   \n",
              "641910                                 0.0                             0.0   \n",
              "641911                                 0.0                             0.0   \n",
              "641912                                 0.0                             0.0   \n",
              "641913                                 0.0                             0.0   \n",
              "\n",
              "        merchantCategoryCode_subscriptions  merchantCountryCode_CAN  \\\n",
              "0                                      0.0                      0.0   \n",
              "1                                      0.0                      0.0   \n",
              "2                                      0.0                      0.0   \n",
              "3                                      0.0                      0.0   \n",
              "4                                      0.0                      0.0   \n",
              "...                                    ...                      ...   \n",
              "641909                                 0.0                      0.0   \n",
              "641910                                 0.0                      0.0   \n",
              "641911                                 0.0                      0.0   \n",
              "641912                                 0.0                      0.0   \n",
              "641913                                 0.0                      0.0   \n",
              "\n",
              "        merchantCountryCode_MEX  merchantCountryCode_PR  \\\n",
              "0                           0.0                     0.0   \n",
              "1                           0.0                     0.0   \n",
              "2                           0.0                     0.0   \n",
              "3                           0.0                     0.0   \n",
              "4                           0.0                     0.0   \n",
              "...                         ...                     ...   \n",
              "641909                      0.0                     0.0   \n",
              "641910                      0.0                     0.0   \n",
              "641911                      0.0                     0.0   \n",
              "641912                      0.0                     0.0   \n",
              "641913                      0.0                     0.0   \n",
              "\n",
              "        merchantCountryCode_US  \n",
              "0                          1.0  \n",
              "1                          1.0  \n",
              "2                          1.0  \n",
              "3                          1.0  \n",
              "4                          1.0  \n",
              "...                        ...  \n",
              "641909                     1.0  \n",
              "641910                     1.0  \n",
              "641911                     1.0  \n",
              "641912                     1.0  \n",
              "641913                     1.0  \n",
              "\n",
              "[641914 rows x 38 columns]"
            ]
          },
          "metadata": {
            "tags": []
          },
          "execution_count": 117
        }
      ]
    },
    {
      "cell_type": "code",
      "metadata": {
        "id": "UtgFBkaC1O2W",
        "colab_type": "code",
        "colab": {}
      },
      "source": [
        "tmp_df = tmp_df.reset_index()\n",
        "tmp_df = pd.concat([tmp_df, transformed_data], axis=1)"
      ],
      "execution_count": null,
      "outputs": []
    },
    {
      "cell_type": "code",
      "metadata": {
        "id": "Bd7SSjhx1O2c",
        "colab_type": "code",
        "colab": {},
        "outputId": "6f5a93fd-13be-4020-861f-f9762bc969e3"
      },
      "source": [
        "tmp_df = tmp_df.drop(columns=char_column)\n",
        "tmp_df.head()"
      ],
      "execution_count": null,
      "outputs": [
        {
          "output_type": "execute_result",
          "data": {
            "text/html": [
              "<div>\n",
              "<style scoped>\n",
              "    .dataframe tbody tr th:only-of-type {\n",
              "        vertical-align: middle;\n",
              "    }\n",
              "\n",
              "    .dataframe tbody tr th {\n",
              "        vertical-align: top;\n",
              "    }\n",
              "\n",
              "    .dataframe thead th {\n",
              "        text-align: right;\n",
              "    }\n",
              "</style>\n",
              "<table border=\"1\" class=\"dataframe\">\n",
              "  <thead>\n",
              "    <tr style=\"text-align: right;\">\n",
              "      <th></th>\n",
              "      <th>index</th>\n",
              "      <th>accountNumber</th>\n",
              "      <th>customerId</th>\n",
              "      <th>creditLimit</th>\n",
              "      <th>availableMoney</th>\n",
              "      <th>transactionAmount</th>\n",
              "      <th>isFraud</th>\n",
              "      <th>currentBalance</th>\n",
              "      <th>cardPresent</th>\n",
              "      <th>expirationDateKeyInMatch</th>\n",
              "      <th>...</th>\n",
              "      <th>merchantCategoryCode_online_gifts</th>\n",
              "      <th>merchantCategoryCode_online_retail</th>\n",
              "      <th>merchantCategoryCode_online_subscriptions</th>\n",
              "      <th>merchantCategoryCode_personal care</th>\n",
              "      <th>merchantCategoryCode_rideshare</th>\n",
              "      <th>merchantCategoryCode_subscriptions</th>\n",
              "      <th>merchantCountryCode_CAN</th>\n",
              "      <th>merchantCountryCode_MEX</th>\n",
              "      <th>merchantCountryCode_PR</th>\n",
              "      <th>merchantCountryCode_US</th>\n",
              "    </tr>\n",
              "  </thead>\n",
              "  <tbody>\n",
              "    <tr>\n",
              "      <th>0</th>\n",
              "      <td>0</td>\n",
              "      <td>733493772</td>\n",
              "      <td>733493772</td>\n",
              "      <td>5000</td>\n",
              "      <td>5000.00</td>\n",
              "      <td>111.33</td>\n",
              "      <td>1</td>\n",
              "      <td>0.00</td>\n",
              "      <td>0</td>\n",
              "      <td>0</td>\n",
              "      <td>...</td>\n",
              "      <td>0.0</td>\n",
              "      <td>0.0</td>\n",
              "      <td>0.0</td>\n",
              "      <td>0.0</td>\n",
              "      <td>1.0</td>\n",
              "      <td>0.0</td>\n",
              "      <td>0.0</td>\n",
              "      <td>0.0</td>\n",
              "      <td>0.0</td>\n",
              "      <td>1.0</td>\n",
              "    </tr>\n",
              "    <tr>\n",
              "      <th>1</th>\n",
              "      <td>1</td>\n",
              "      <td>733493772</td>\n",
              "      <td>733493772</td>\n",
              "      <td>5000</td>\n",
              "      <td>4888.67</td>\n",
              "      <td>24.75</td>\n",
              "      <td>0</td>\n",
              "      <td>111.33</td>\n",
              "      <td>0</td>\n",
              "      <td>0</td>\n",
              "      <td>...</td>\n",
              "      <td>0.0</td>\n",
              "      <td>0.0</td>\n",
              "      <td>0.0</td>\n",
              "      <td>0.0</td>\n",
              "      <td>1.0</td>\n",
              "      <td>0.0</td>\n",
              "      <td>0.0</td>\n",
              "      <td>0.0</td>\n",
              "      <td>0.0</td>\n",
              "      <td>1.0</td>\n",
              "    </tr>\n",
              "    <tr>\n",
              "      <th>2</th>\n",
              "      <td>2</td>\n",
              "      <td>733493772</td>\n",
              "      <td>733493772</td>\n",
              "      <td>5000</td>\n",
              "      <td>4863.92</td>\n",
              "      <td>187.40</td>\n",
              "      <td>0</td>\n",
              "      <td>136.08</td>\n",
              "      <td>0</td>\n",
              "      <td>0</td>\n",
              "      <td>...</td>\n",
              "      <td>0.0</td>\n",
              "      <td>0.0</td>\n",
              "      <td>0.0</td>\n",
              "      <td>0.0</td>\n",
              "      <td>1.0</td>\n",
              "      <td>0.0</td>\n",
              "      <td>0.0</td>\n",
              "      <td>0.0</td>\n",
              "      <td>0.0</td>\n",
              "      <td>1.0</td>\n",
              "    </tr>\n",
              "    <tr>\n",
              "      <th>3</th>\n",
              "      <td>3</td>\n",
              "      <td>733493772</td>\n",
              "      <td>733493772</td>\n",
              "      <td>5000</td>\n",
              "      <td>4676.52</td>\n",
              "      <td>227.34</td>\n",
              "      <td>1</td>\n",
              "      <td>323.48</td>\n",
              "      <td>0</td>\n",
              "      <td>0</td>\n",
              "      <td>...</td>\n",
              "      <td>0.0</td>\n",
              "      <td>0.0</td>\n",
              "      <td>0.0</td>\n",
              "      <td>0.0</td>\n",
              "      <td>1.0</td>\n",
              "      <td>0.0</td>\n",
              "      <td>0.0</td>\n",
              "      <td>0.0</td>\n",
              "      <td>0.0</td>\n",
              "      <td>1.0</td>\n",
              "    </tr>\n",
              "    <tr>\n",
              "      <th>4</th>\n",
              "      <td>4</td>\n",
              "      <td>733493772</td>\n",
              "      <td>733493772</td>\n",
              "      <td>5000</td>\n",
              "      <td>4449.18</td>\n",
              "      <td>0.00</td>\n",
              "      <td>0</td>\n",
              "      <td>550.82</td>\n",
              "      <td>0</td>\n",
              "      <td>0</td>\n",
              "      <td>...</td>\n",
              "      <td>0.0</td>\n",
              "      <td>0.0</td>\n",
              "      <td>0.0</td>\n",
              "      <td>0.0</td>\n",
              "      <td>1.0</td>\n",
              "      <td>0.0</td>\n",
              "      <td>0.0</td>\n",
              "      <td>0.0</td>\n",
              "      <td>0.0</td>\n",
              "      <td>1.0</td>\n",
              "    </tr>\n",
              "  </tbody>\n",
              "</table>\n",
              "<p>5 rows × 57 columns</p>\n",
              "</div>"
            ],
            "text/plain": [
              "   index  accountNumber  customerId  creditLimit  availableMoney  \\\n",
              "0      0      733493772   733493772         5000         5000.00   \n",
              "1      1      733493772   733493772         5000         4888.67   \n",
              "2      2      733493772   733493772         5000         4863.92   \n",
              "3      3      733493772   733493772         5000         4676.52   \n",
              "4      4      733493772   733493772         5000         4449.18   \n",
              "\n",
              "   transactionAmount  isFraud  currentBalance  cardPresent  \\\n",
              "0             111.33        1            0.00            0   \n",
              "1              24.75        0          111.33            0   \n",
              "2             187.40        0          136.08            0   \n",
              "3             227.34        1          323.48            0   \n",
              "4               0.00        0          550.82            0   \n",
              "\n",
              "   expirationDateKeyInMatch  ...  merchantCategoryCode_online_gifts  \\\n",
              "0                         0  ...                                0.0   \n",
              "1                         0  ...                                0.0   \n",
              "2                         0  ...                                0.0   \n",
              "3                         0  ...                                0.0   \n",
              "4                         0  ...                                0.0   \n",
              "\n",
              "   merchantCategoryCode_online_retail  \\\n",
              "0                                 0.0   \n",
              "1                                 0.0   \n",
              "2                                 0.0   \n",
              "3                                 0.0   \n",
              "4                                 0.0   \n",
              "\n",
              "   merchantCategoryCode_online_subscriptions  \\\n",
              "0                                        0.0   \n",
              "1                                        0.0   \n",
              "2                                        0.0   \n",
              "3                                        0.0   \n",
              "4                                        0.0   \n",
              "\n",
              "   merchantCategoryCode_personal care  merchantCategoryCode_rideshare  \\\n",
              "0                                 0.0                             1.0   \n",
              "1                                 0.0                             1.0   \n",
              "2                                 0.0                             1.0   \n",
              "3                                 0.0                             1.0   \n",
              "4                                 0.0                             1.0   \n",
              "\n",
              "   merchantCategoryCode_subscriptions  merchantCountryCode_CAN  \\\n",
              "0                                 0.0                      0.0   \n",
              "1                                 0.0                      0.0   \n",
              "2                                 0.0                      0.0   \n",
              "3                                 0.0                      0.0   \n",
              "4                                 0.0                      0.0   \n",
              "\n",
              "   merchantCountryCode_MEX  merchantCountryCode_PR  merchantCountryCode_US  \n",
              "0                      0.0                     0.0                     1.0  \n",
              "1                      0.0                     0.0                     1.0  \n",
              "2                      0.0                     0.0                     1.0  \n",
              "3                      0.0                     0.0                     1.0  \n",
              "4                      0.0                     0.0                     1.0  \n",
              "\n",
              "[5 rows x 57 columns]"
            ]
          },
          "metadata": {
            "tags": []
          },
          "execution_count": 119
        }
      ]
    },
    {
      "cell_type": "code",
      "metadata": {
        "id": "mdFXrZE91O2g",
        "colab_type": "code",
        "colab": {}
      },
      "source": [
        "y = tmp_df['isFraud']\n",
        "tmp_df = tmp_df.drop(columns=['isFraud'])"
      ],
      "execution_count": null,
      "outputs": []
    },
    {
      "cell_type": "code",
      "metadata": {
        "id": "rX2gkzlK1O2l",
        "colab_type": "code",
        "colab": {}
      },
      "source": [
        "tmp_df.drop(columns=['accountNumber','customerId'],axis = 1, inplace = True)"
      ],
      "execution_count": null,
      "outputs": []
    },
    {
      "cell_type": "markdown",
      "metadata": {
        "id": "pwhpk_o_1O2q",
        "colab_type": "text"
      },
      "source": [
        "# Modelling"
      ]
    },
    {
      "cell_type": "code",
      "metadata": {
        "id": "SJVd16xU1O2r",
        "colab_type": "code",
        "colab": {}
      },
      "source": [
        "from sklearn.model_selection import train_test_split\n",
        "\n",
        "X_train, X_test, y_train, y_test = train_test_split(tmp_df, y, test_size=0.3, random_state=42)"
      ],
      "execution_count": null,
      "outputs": []
    },
    {
      "cell_type": "code",
      "metadata": {
        "id": "ojS1FRjn1O21",
        "colab_type": "code",
        "colab": {}
      },
      "source": [
        "from sklearn.linear_model import LogisticRegression\n",
        "from sklearn.svm import SVC\n",
        "from sklearn.neighbors import KNeighborsClassifier\n",
        "from sklearn.tree import DecisionTreeClassifier\n",
        "from sklearn.ensemble import RandomForestClassifier\n",
        "from sklearn.tree import DecisionTreeClassifier\n",
        "from sklearn.ensemble import GradientBoostingClassifier"
      ],
      "execution_count": null,
      "outputs": []
    },
    {
      "cell_type": "markdown",
      "metadata": {
        "id": "asP7s-z31O2-",
        "colab_type": "text"
      },
      "source": [
        "# Logistic Regression"
      ]
    },
    {
      "cell_type": "code",
      "metadata": {
        "id": "VJvIDU4P1O2_",
        "colab_type": "code",
        "colab": {},
        "outputId": "2b90b4a6-f364-4888-b418-85660d127c1a"
      },
      "source": [
        "LR = LogisticRegression()\n",
        "LR.fit(X_train,y_train)"
      ],
      "execution_count": null,
      "outputs": [
        {
          "output_type": "stream",
          "text": [
            "C:\\Users\\LENOVO\\anaconda3\\lib\\site-packages\\sklearn\\linear_model\\_logistic.py:940: ConvergenceWarning: lbfgs failed to converge (status=1):\n",
            "STOP: TOTAL NO. of ITERATIONS REACHED LIMIT.\n",
            "\n",
            "Increase the number of iterations (max_iter) or scale the data as shown in:\n",
            "    https://scikit-learn.org/stable/modules/preprocessing.html\n",
            "Please also refer to the documentation for alternative solver options:\n",
            "    https://scikit-learn.org/stable/modules/linear_model.html#logistic-regression\n",
            "  extra_warning_msg=_LOGISTIC_SOLVER_CONVERGENCE_MSG)\n"
          ],
          "name": "stderr"
        },
        {
          "output_type": "execute_result",
          "data": {
            "text/plain": [
              "LogisticRegression(C=1.0, class_weight=None, dual=False, fit_intercept=True,\n",
              "                   intercept_scaling=1, l1_ratio=None, max_iter=100,\n",
              "                   multi_class='auto', n_jobs=None, penalty='l2',\n",
              "                   random_state=None, solver='lbfgs', tol=0.0001, verbose=0,\n",
              "                   warm_start=False)"
            ]
          },
          "metadata": {
            "tags": []
          },
          "execution_count": 124
        }
      ]
    },
    {
      "cell_type": "code",
      "metadata": {
        "id": "j8cQdUbf1O3D",
        "colab_type": "code",
        "colab": {}
      },
      "source": [
        "y_pred = LR.predict(X_test)\n",
        "from sklearn.metrics import roc_curve, auc\n",
        "\n",
        "fpr, tpr, _ = roc_curve(y_test, y_pred)\n",
        "roc_auc = auc(fpr, tpr)"
      ],
      "execution_count": null,
      "outputs": []
    },
    {
      "cell_type": "code",
      "metadata": {
        "id": "hHmlxpKe1O3L",
        "colab_type": "code",
        "colab": {},
        "outputId": "6e524de9-0c3e-486b-8599-94f3c0ecba7c"
      },
      "source": [
        "import matplotlib.pyplot as plt\n",
        "\n",
        "plt.figure()\n",
        "lw = 2\n",
        "plt.plot(fpr, tpr, color='Yellow',\n",
        "         lw=lw, label='ROC curve (area = %0.2f)' % roc_auc)\n",
        "plt.plot([0, 1], [0, 1], color='Green', lw=lw, linestyle='--')\n",
        "plt.xlim([0.0, 1.0])\n",
        "plt.ylim([0.0, 1.05])\n",
        "plt.xlabel('False Positive Rate')\n",
        "plt.ylabel('True Positive Rate')\n",
        "plt.title('Receiver operating characteristic example')\n",
        "plt.legend(loc=\"lower right\")\n",
        "plt.show()"
      ],
      "execution_count": null,
      "outputs": [
        {
          "output_type": "display_data",
          "data": {
            "image/png": "[encoded data removed]",
            "text/plain": [
              "<Figure size 432x288 with 1 Axes>"
            ]
          },
          "metadata": {
            "tags": [],
            "needs_background": "light"
          }
        }
      ]
    },
    {
      "cell_type": "code",
      "metadata": {
        "id": "75xilqrG1O3P",
        "colab_type": "code",
        "colab": {},
        "outputId": "b111bb40-a4c4-49d0-d9ed-f80d2e6741ab"
      },
      "source": [
        "from sklearn.metrics import confusion_matrix\n",
        "from sklearn.metrics import classification_report\n",
        "matrix = classification_report(y_test,y_pred,labels=[1,0])\n",
        "print('Classification report : \\n',matrix)"
      ],
      "execution_count": null,
      "outputs": [
        {
          "output_type": "stream",
          "text": [
            "C:\\Users\\LENOVO\\anaconda3\\lib\\site-packages\\sklearn\\metrics\\_classification.py:1272: UndefinedMetricWarning: Precision and F-score are ill-defined and being set to 0.0 in labels with no predicted samples. Use `zero_division` parameter to control this behavior.\n",
            "  _warn_prf(average, modifier, msg_start, len(result))\n"
          ],
          "name": "stderr"
        },
        {
          "output_type": "stream",
          "text": [
            "Classification report : \n",
            "               precision    recall  f1-score   support\n",
            "\n",
            "           1       0.00      0.00      0.00      3442\n",
            "           0       0.98      1.00      0.99    189133\n",
            "\n",
            "    accuracy                           0.98    192575\n",
            "   macro avg       0.49      0.50      0.50    192575\n",
            "weighted avg       0.96      0.98      0.97    192575\n",
            "\n"
          ],
          "name": "stdout"
        }
      ]
    },
    {
      "cell_type": "code",
      "metadata": {
        "id": "Kr5NQJmt1O3S",
        "colab_type": "code",
        "colab": {},
        "outputId": "2e349ae7-1452-46ea-ab7d-5e1feffd3ed9"
      },
      "source": [
        "from sklearn.metrics import plot_confusion_matrix\n",
        "\n",
        "plot_confusion_matrix(LR, X_test, y_test)  \n",
        "\n",
        "plt.show() "
      ],
      "execution_count": null,
      "outputs": [
        {
          "output_type": "display_data",
          "data": {
            "image/png": "[encoded data removed]",
            "text/plain": [
              "<Figure size 432x288 with 2 Axes>"
            ]
          },
          "metadata": {
            "tags": [],
            "needs_background": "light"
          }
        }
      ]
    },
    {
      "cell_type": "markdown",
      "metadata": {
        "id": "XybNSKbO1O3Y",
        "colab_type": "text"
      },
      "source": [
        "# KNN"
      ]
    },
    {
      "cell_type": "code",
      "metadata": {
        "id": "qfSnjJ4j1O3Y",
        "colab_type": "code",
        "colab": {},
        "outputId": "1630b224-affa-47e5-a42c-0de2e16a0bb2"
      },
      "source": [
        "from sklearn.neighbors import KNeighborsClassifier\n",
        "\n",
        "knn = KNeighborsClassifier(n_neighbors = 5, metric = 'minkowski', p = 2)\n",
        "\n",
        "knn.fit(X_train, y_train)"
      ],
      "execution_count": null,
      "outputs": [
        {
          "output_type": "execute_result",
          "data": {
            "text/plain": [
              "KNeighborsClassifier(algorithm='auto', leaf_size=30, metric='minkowski',\n",
              "                     metric_params=None, n_jobs=None, n_neighbors=5, p=2,\n",
              "                     weights='uniform')"
            ]
          },
          "metadata": {
            "tags": []
          },
          "execution_count": 132
        }
      ]
    },
    {
      "cell_type": "code",
      "metadata": {
        "id": "k5qLnPdN1O3d",
        "colab_type": "code",
        "colab": {},
        "outputId": "7c6d01f4-61f4-4a10-e38b-ee68d7b1718f"
      },
      "source": [
        "print('[1]K Nearest Neighbor Training Accuracy:', knn.score(X_train, y_train))"
      ],
      "execution_count": null,
      "outputs": [
        {
          "output_type": "stream",
          "text": [
            "[1]K Nearest Neighbor Training Accuracy: 0.9826812273138988\n"
          ],
          "name": "stdout"
        }
      ]
    },
    {
      "cell_type": "code",
      "metadata": {
        "id": "OOGE1KOF1O3j",
        "colab_type": "code",
        "colab": {}
      },
      "source": [
        "Y_predict =knn.predict(X_test)"
      ],
      "execution_count": null,
      "outputs": []
    },
    {
      "cell_type": "code",
      "metadata": {
        "id": "1_dEwpns1O3m",
        "colab_type": "code",
        "colab": {},
        "outputId": "4b92cb87-0650-4e84-d6a9-98c8174262a3"
      },
      "source": [
        "from sklearn.metrics import confusion_matrix\n",
        "from sklearn.metrics import classification_report\n",
        "\n",
        "matrix = classification_report(y_test,Y_predict,labels=[1,0])\n",
        "\n",
        "print('Classification Report : \\n',matrix)"
      ],
      "execution_count": null,
      "outputs": [
        {
          "output_type": "stream",
          "text": [
            "Classification Report : \n",
            "               precision    recall  f1-score   support\n",
            "\n",
            "           1       0.15      0.00      0.01      3442\n",
            "           0       0.98      1.00      0.99    189133\n",
            "\n",
            "    accuracy                           0.98    192575\n",
            "   macro avg       0.57      0.50      0.50    192575\n",
            "weighted avg       0.97      0.98      0.97    192575\n",
            "\n"
          ],
          "name": "stdout"
        }
      ]
    },
    {
      "cell_type": "code",
      "metadata": {
        "id": "Xgaylk_m1O3p",
        "colab_type": "code",
        "colab": {},
        "outputId": "a2f071f1-6de1-4fb3-fc80-f96d35ac561b"
      },
      "source": [
        "from sklearn.metrics import plot_confusion_matrix\n",
        "\n",
        "plot_confusion_matrix(knn, X_test, y_test)  \n",
        "\n",
        "plt.show()  "
      ],
      "execution_count": null,
      "outputs": [
        {
          "output_type": "display_data",
          "data": {
            "image/png": "[encoded data removed]",
            "text/plain": [
              "<Figure size 432x288 with 2 Axes>"
            ]
          },
          "metadata": {
            "tags": [],
            "needs_background": "light"
          }
        }
      ]
    },
    {
      "cell_type": "markdown",
      "metadata": {
        "id": "idPhaOSL1O3t",
        "colab_type": "text"
      },
      "source": [
        "# Decision Tree"
      ]
    },
    {
      "cell_type": "code",
      "metadata": {
        "id": "kOn1iPNp1O3t",
        "colab_type": "code",
        "colab": {},
        "outputId": "b907e39c-c82f-4678-dad4-c3b8f145a30c"
      },
      "source": [
        "from sklearn.tree import DecisionTreeClassifier\n",
        "dt = DecisionTreeClassifier(criterion = 'entropy', random_state = 0)\n",
        "dt.fit(X_train, y_train)"
      ],
      "execution_count": null,
      "outputs": [
        {
          "output_type": "execute_result",
          "data": {
            "text/plain": [
              "DecisionTreeClassifier(ccp_alpha=0.0, class_weight=None, criterion='entropy',\n",
              "                       max_depth=None, max_features=None, max_leaf_nodes=None,\n",
              "                       min_impurity_decrease=0.0, min_impurity_split=None,\n",
              "                       min_samples_leaf=1, min_samples_split=2,\n",
              "                       min_weight_fraction_leaf=0.0, presort='deprecated',\n",
              "                       random_state=0, splitter='best')"
            ]
          },
          "metadata": {
            "tags": []
          },
          "execution_count": 138
        }
      ]
    },
    {
      "cell_type": "code",
      "metadata": {
        "id": "HwXUZjKN1O3x",
        "colab_type": "code",
        "colab": {},
        "outputId": "3399ff38-07de-4372-a3b8-09417ac5a8a3"
      },
      "source": [
        "print('Decision Tree Classifier Training Accuracy:', dt.score(X_train, y_train))"
      ],
      "execution_count": null,
      "outputs": [
        {
          "output_type": "stream",
          "text": [
            "Decision Tree Classifier Training Accuracy: 1.0\n"
          ],
          "name": "stdout"
        }
      ]
    },
    {
      "cell_type": "code",
      "metadata": {
        "id": "6SgxZTQl1O30",
        "colab_type": "code",
        "colab": {}
      },
      "source": [
        "Y_pred = dt.predict(X_test)"
      ],
      "execution_count": null,
      "outputs": []
    },
    {
      "cell_type": "code",
      "metadata": {
        "id": "dh_UbfHE1O34",
        "colab_type": "code",
        "colab": {},
        "outputId": "6a328306-2e7e-4a98-f8af-90f6b9f51c90"
      },
      "source": [
        "from sklearn.metrics import plot_confusion_matrix\n",
        "plot_confusion_matrix(dt, X_test, y_test)\n",
        "plt.show()"
      ],
      "execution_count": null,
      "outputs": [
        {
          "output_type": "display_data",
          "data": {
            "image/png": "[encoded data removed]",
            "text/plain": [
              "<Figure size 432x288 with 2 Axes>"
            ]
          },
          "metadata": {
            "tags": [],
            "needs_background": "light"
          }
        }
      ]
    },
    {
      "cell_type": "markdown",
      "metadata": {
        "id": "Fql_Ygc61O36",
        "colab_type": "text"
      },
      "source": [
        "# Random Forest"
      ]
    },
    {
      "cell_type": "code",
      "metadata": {
        "id": "SQKZU9g91O37",
        "colab_type": "code",
        "colab": {},
        "outputId": "42003a8a-fd8d-4d5b-b6f3-b657f290f051"
      },
      "source": [
        "RF = RandomForestClassifier()\n",
        "\n",
        "RF.fit(X_train,y_train)"
      ],
      "execution_count": null,
      "outputs": [
        {
          "output_type": "execute_result",
          "data": {
            "text/plain": [
              "RandomForestClassifier(bootstrap=True, ccp_alpha=0.0, class_weight=None,\n",
              "                       criterion='gini', max_depth=None, max_features='auto',\n",
              "                       max_leaf_nodes=None, max_samples=None,\n",
              "                       min_impurity_decrease=0.0, min_impurity_split=None,\n",
              "                       min_samples_leaf=1, min_samples_split=2,\n",
              "                       min_weight_fraction_leaf=0.0, n_estimators=100,\n",
              "                       n_jobs=None, oob_score=False, random_state=None,\n",
              "                       verbose=0, warm_start=False)"
            ]
          },
          "metadata": {
            "tags": []
          },
          "execution_count": 142
        }
      ]
    },
    {
      "cell_type": "code",
      "metadata": {
        "id": "-7iG5ceK1O3_",
        "colab_type": "code",
        "colab": {},
        "outputId": "e17de57a-8236-4681-9dda-5d983d68a7a9"
      },
      "source": [
        "y_pred = RF.predict(X_test)\n",
        "\n",
        "from sklearn.metrics import roc_curve, auc\n",
        "\n",
        "fpr, tpr, _ = roc_curve(y_test, y_pred)\n",
        "roc_auc = auc(fpr, tpr)\n",
        "plt.figure()\n",
        "lw = 2\n",
        "plt.plot(fpr, tpr, color='yellow',\n",
        "         lw=lw, label='ROC curve (area = %0.2f)' % roc_auc)\n",
        "\n",
        "plt.plot([0, 1], [0, 1], color='green', lw=lw, linestyle='--')\n",
        "plt.xlim([0.0, 1.0])\n",
        "plt.ylim([0.0, 1.05])\n",
        "\n",
        "plt.xlabel('False Positive Rate')\n",
        "plt.ylabel('True Positive Rate')\n",
        "plt.title('Receiver operating characteristic example')\n",
        "plt.legend(loc=\"lower right\")\n",
        "\n",
        "plt.show()"
      ],
      "execution_count": null,
      "outputs": [
        {
          "output_type": "display_data",
          "data": {
            "image/png": "[encoded data removed]",
            "text/plain": [
              "<Figure size 432x288 with 1 Axes>"
            ]
          },
          "metadata": {
            "tags": [],
            "needs_background": "light"
          }
        }
      ]
    },
    {
      "cell_type": "code",
      "metadata": {
        "id": "smH14q-91O4F",
        "colab_type": "code",
        "colab": {},
        "outputId": "6f8b95c1-6646-45bf-c98f-d68b982f86bf"
      },
      "source": [
        "from sklearn.metrics import confusion_matrix\n",
        "from sklearn.metrics import classification_report\n",
        "\n",
        "matrix = classification_report(y_test,y_pred,labels=[1,0])\n",
        "\n",
        "print('Classification Report : \\n',matrix)"
      ],
      "execution_count": null,
      "outputs": [
        {
          "output_type": "stream",
          "text": [
            "Classification Report : \n",
            "               precision    recall  f1-score   support\n",
            "\n",
            "           1       0.98      0.01      0.03      3442\n",
            "           0       0.98      1.00      0.99    189133\n",
            "\n",
            "    accuracy                           0.98    192575\n",
            "   macro avg       0.98      0.51      0.51    192575\n",
            "weighted avg       0.98      0.98      0.97    192575\n",
            "\n"
          ],
          "name": "stdout"
        }
      ]
    },
    {
      "cell_type": "code",
      "metadata": {
        "id": "dc3oU2CS1O4I",
        "colab_type": "code",
        "colab": {},
        "outputId": "0f66db14-42cf-458a-fa7e-989c4d990fcc"
      },
      "source": [
        "from sklearn.metrics import plot_confusion_matrix\n",
        "\n",
        "plot_confusion_matrix(RF, X_test, y_test) \n",
        "\n",
        "plt.show() "
      ],
      "execution_count": null,
      "outputs": [
        {
          "output_type": "display_data",
          "data": {
            "image/png": "[encoded data removed]",
            "text/plain": [
              "<Figure size 432x288 with 2 Axes>"
            ]
          },
          "metadata": {
            "tags": [],
            "needs_background": "light"
          }
        }
      ]
    },
    {
      "cell_type": "code",
      "metadata": {
        "id": "l5q_BU1G1O4M",
        "colab_type": "code",
        "colab": {}
      },
      "source": [
        ""
      ],
      "execution_count": null,
      "outputs": []
    }
  ]
}